{
 "cells": [
  {
   "cell_type": "code",
   "execution_count": 16,
   "outputs": [
    {
     "name": "stdout",
     "output_type": "stream",
     "text": [
      "File oco2_GEOS_L3CO2_day_20220201_B10206Ar.nc4 already exists.\n",
      "File oco2_GEOS_L3CO2_day_20220202_B10206Ar.nc4 already exists.\n",
      "File oco2_GEOS_L3CO2_day_20220203_B10206Ar.nc4 already exists.\n",
      "File oco2_GEOS_L3CO2_day_20220204_B10206Ar.nc4 already exists.\n",
      "File oco2_GEOS_L3CO2_day_20220205_B10206Ar.nc4 already exists.\n",
      "File oco2_GEOS_L3CO2_day_20220206_B10206Ar.nc4 already exists.\n",
      "File oco2_GEOS_L3CO2_day_20220207_B10206Ar.nc4 already exists.\n",
      "File oco2_GEOS_L3CO2_day_20220208_B10206Ar.nc4 already exists.\n",
      "File oco2_GEOS_L3CO2_day_20220209_B10206Ar.nc4 already exists.\n",
      "File oco2_GEOS_L3CO2_day_20220210_B10206Ar.nc4 already exists.\n",
      "File oco2_GEOS_L3CO2_day_20220211_B10206Ar.nc4 already exists.\n",
      "File oco2_GEOS_L3CO2_day_20220214_B10206Ar.nc4 already exists.\n",
      "File oco2_GEOS_L3CO2_day_20220212_B10206Ar.nc4 already exists.\n",
      "File oco2_GEOS_L3CO2_day_20220213_B10206Ar.nc4 already exists.\n",
      "File oco2_GEOS_L3CO2_day_20220215_B10206Ar.nc4 already exists.\n",
      "File oco2_GEOS_L3CO2_day_20220217_B10206Ar.nc4 already exists.\n",
      "File oco2_GEOS_L3CO2_day_20220218_B10206Ar.nc4 already exists.\n",
      "File oco2_GEOS_L3CO2_day_20220216_B10206Ar.nc4 already exists.\n",
      "File oco2_GEOS_L3CO2_day_20220219_B10206Ar.nc4 already exists.\n",
      "File oco2_GEOS_L3CO2_day_20220220_B10206Ar.nc4 already exists.\n",
      "File oco2_GEOS_L3CO2_day_20220224_B10206Ar.nc4 already exists.\n",
      "File oco2_GEOS_L3CO2_day_20220222_B10206Ar.nc4 already exists.\n",
      "File oco2_GEOS_L3CO2_day_20220225_B10206Ar.nc4 already exists.\n",
      "File oco2_GEOS_L3CO2_day_20220223_B10206Ar.nc4 already exists.\n",
      "File oco2_GEOS_L3CO2_day_20220221_B10206Ar.nc4 already exists.\n",
      "File oco2_GEOS_L3CO2_day_20220226_B10206Ar.nc4 already exists.\n",
      "File oco2_GEOS_L3CO2_day_20220227_B10206Ar.nc4 already exists.\n",
      "File oco2_GEOS_L3CO2_day_20220228_B10206Ar.nc4 already exists.\n"
     ]
    }
   ],
   "source": [
    "# Setting historical serie\n",
    "\n",
    "from xcodex.main import download_file\n",
    "\n",
    "start_date = \"1st of February, 2022\"\n",
    "end_date = \"28th of February, 2022\"\n",
    "\n",
    "download_file(start_date, end_date) # Downloading .nc4 files"
   ],
   "metadata": {
    "collapsed": false,
    "ExecuteTime": {
     "end_time": "2023-05-27T17:53:12.029726300Z",
     "start_time": "2023-05-27T17:53:12.009272900Z"
    }
   }
  },
  {
   "cell_type": "code",
   "execution_count": 17,
   "outputs": [],
   "source": [
    "from glob import glob\n",
    "from os.path import join\n",
    "from os import getcwd\n",
    "\n",
    "arquive_folder = glob(join(getcwd(), \"downloaded_data\", \"*.nc4\")) # Selecting the folder with .nc4 files\n",
    "\n",
    "# Setting desired locations\n",
    "\n",
    "locations = dict(Mauna_loa=[19.479488, -155.602829],\n",
    "                 New_York=[40.712776, -74.005974],\n",
    "                 Paris=[48.856613, 2.352222])"
   ],
   "metadata": {
    "collapsed": false,
    "ExecuteTime": {
     "end_time": "2023-05-27T17:53:12.030727700Z",
     "start_time": "2023-05-27T17:53:12.026589800Z"
    }
   }
  },
  {
   "cell_type": "code",
   "execution_count": 18,
   "outputs": [
    {
     "data": {
      "text/plain": "         city    jd   day  month    year        lat         lon  lat_index   \n0   Mauna_loa  32.0   1.0    2.0  2022.0  19.479488 -155.602829      219.0  \\\n1   Mauna_loa  33.0   2.0    2.0  2022.0  19.479488 -155.602829      219.0   \n2   Mauna_loa  34.0   3.0    2.0  2022.0  19.479488 -155.602829      219.0   \n3   Mauna_loa  35.0   4.0    2.0  2022.0  19.479488 -155.602829      219.0   \n4   Mauna_loa  36.0   5.0    2.0  2022.0  19.479488 -155.602829      219.0   \n..        ...   ...   ...    ...     ...        ...         ...        ...   \n79      Paris  55.0  24.0    2.0  2022.0  48.856613    2.352222      278.0   \n80      Paris  56.0  25.0    2.0  2022.0  48.856613    2.352222      278.0   \n81      Paris  57.0  26.0    2.0  2022.0  48.856613    2.352222      278.0   \n82      Paris  58.0  27.0    2.0  2022.0  48.856613    2.352222      278.0   \n83      Paris  59.0  28.0    2.0  2022.0  48.856613    2.352222      278.0   \n\n    lon_index        xco2     xco2_prec  \n0        39.0  417.965286  1.000000e-07  \n1        39.0  418.602638  1.000000e-07  \n2        39.0  417.983378  1.000000e-07  \n3        39.0  417.514515  1.000000e-07  \n4        39.0  417.151768  1.000000e-07  \n..        ...         ...           ...  \n79      292.0  419.482440  1.782026e-07  \n80      292.0  420.058346  1.782026e-07  \n81      292.0  419.891832  1.782026e-07  \n82      292.0  419.811891  1.782026e-07  \n83      292.0  419.759257  1.782026e-07  \n\n[84 rows x 11 columns]",
      "text/html": "<div>\n<style scoped>\n    .dataframe tbody tr th:only-of-type {\n        vertical-align: middle;\n    }\n\n    .dataframe tbody tr th {\n        vertical-align: top;\n    }\n\n    .dataframe thead th {\n        text-align: right;\n    }\n</style>\n<table border=\"1\" class=\"dataframe\">\n  <thead>\n    <tr style=\"text-align: right;\">\n      <th></th>\n      <th>city</th>\n      <th>jd</th>\n      <th>day</th>\n      <th>month</th>\n      <th>year</th>\n      <th>lat</th>\n      <th>lon</th>\n      <th>lat_index</th>\n      <th>lon_index</th>\n      <th>xco2</th>\n      <th>xco2_prec</th>\n    </tr>\n  </thead>\n  <tbody>\n    <tr>\n      <th>0</th>\n      <td>Mauna_loa</td>\n      <td>32.0</td>\n      <td>1.0</td>\n      <td>2.0</td>\n      <td>2022.0</td>\n      <td>19.479488</td>\n      <td>-155.602829</td>\n      <td>219.0</td>\n      <td>39.0</td>\n      <td>417.965286</td>\n      <td>1.000000e-07</td>\n    </tr>\n    <tr>\n      <th>1</th>\n      <td>Mauna_loa</td>\n      <td>33.0</td>\n      <td>2.0</td>\n      <td>2.0</td>\n      <td>2022.0</td>\n      <td>19.479488</td>\n      <td>-155.602829</td>\n      <td>219.0</td>\n      <td>39.0</td>\n      <td>418.602638</td>\n      <td>1.000000e-07</td>\n    </tr>\n    <tr>\n      <th>2</th>\n      <td>Mauna_loa</td>\n      <td>34.0</td>\n      <td>3.0</td>\n      <td>2.0</td>\n      <td>2022.0</td>\n      <td>19.479488</td>\n      <td>-155.602829</td>\n      <td>219.0</td>\n      <td>39.0</td>\n      <td>417.983378</td>\n      <td>1.000000e-07</td>\n    </tr>\n    <tr>\n      <th>3</th>\n      <td>Mauna_loa</td>\n      <td>35.0</td>\n      <td>4.0</td>\n      <td>2.0</td>\n      <td>2022.0</td>\n      <td>19.479488</td>\n      <td>-155.602829</td>\n      <td>219.0</td>\n      <td>39.0</td>\n      <td>417.514515</td>\n      <td>1.000000e-07</td>\n    </tr>\n    <tr>\n      <th>4</th>\n      <td>Mauna_loa</td>\n      <td>36.0</td>\n      <td>5.0</td>\n      <td>2.0</td>\n      <td>2022.0</td>\n      <td>19.479488</td>\n      <td>-155.602829</td>\n      <td>219.0</td>\n      <td>39.0</td>\n      <td>417.151768</td>\n      <td>1.000000e-07</td>\n    </tr>\n    <tr>\n      <th>...</th>\n      <td>...</td>\n      <td>...</td>\n      <td>...</td>\n      <td>...</td>\n      <td>...</td>\n      <td>...</td>\n      <td>...</td>\n      <td>...</td>\n      <td>...</td>\n      <td>...</td>\n      <td>...</td>\n    </tr>\n    <tr>\n      <th>79</th>\n      <td>Paris</td>\n      <td>55.0</td>\n      <td>24.0</td>\n      <td>2.0</td>\n      <td>2022.0</td>\n      <td>48.856613</td>\n      <td>2.352222</td>\n      <td>278.0</td>\n      <td>292.0</td>\n      <td>419.482440</td>\n      <td>1.782026e-07</td>\n    </tr>\n    <tr>\n      <th>80</th>\n      <td>Paris</td>\n      <td>56.0</td>\n      <td>25.0</td>\n      <td>2.0</td>\n      <td>2022.0</td>\n      <td>48.856613</td>\n      <td>2.352222</td>\n      <td>278.0</td>\n      <td>292.0</td>\n      <td>420.058346</td>\n      <td>1.782026e-07</td>\n    </tr>\n    <tr>\n      <th>81</th>\n      <td>Paris</td>\n      <td>57.0</td>\n      <td>26.0</td>\n      <td>2.0</td>\n      <td>2022.0</td>\n      <td>48.856613</td>\n      <td>2.352222</td>\n      <td>278.0</td>\n      <td>292.0</td>\n      <td>419.891832</td>\n      <td>1.782026e-07</td>\n    </tr>\n    <tr>\n      <th>82</th>\n      <td>Paris</td>\n      <td>58.0</td>\n      <td>27.0</td>\n      <td>2.0</td>\n      <td>2022.0</td>\n      <td>48.856613</td>\n      <td>2.352222</td>\n      <td>278.0</td>\n      <td>292.0</td>\n      <td>419.811891</td>\n      <td>1.782026e-07</td>\n    </tr>\n    <tr>\n      <th>83</th>\n      <td>Paris</td>\n      <td>59.0</td>\n      <td>28.0</td>\n      <td>2.0</td>\n      <td>2022.0</td>\n      <td>48.856613</td>\n      <td>2.352222</td>\n      <td>278.0</td>\n      <td>292.0</td>\n      <td>419.759257</td>\n      <td>1.782026e-07</td>\n    </tr>\n  </tbody>\n</table>\n<p>84 rows × 11 columns</p>\n</div>"
     },
     "execution_count": 18,
     "metadata": {},
     "output_type": "execute_result"
    }
   ],
   "source": [
    "from xcodex.main import xco2_extract\n",
    "\n",
    "df = xco2_extract(path=arquive_folder,\n",
    "                  start=start_date,\n",
    "                  end=end_date,\n",
    "                  missing_data=False,\n",
    "                  **locations) # Extracting XCO2\n",
    "\n",
    "df"
   ],
   "metadata": {
    "collapsed": false,
    "ExecuteTime": {
     "end_time": "2023-05-27T17:53:12.677708900Z",
     "start_time": "2023-05-27T17:53:12.036732800Z"
    }
   }
  },
  {
   "cell_type": "markdown",
   "source": [
    "# Data visualization"
   ],
   "metadata": {
    "collapsed": false
   }
  },
  {
   "cell_type": "code",
   "execution_count": 19,
   "outputs": [
    {
     "data": {
      "application/vnd.plotly.v1+json": {
       "data": [
        {
         "hovertemplate": "<b>%{hovertext}</b><br><br>lat=%{lat}<br>lon=%{lon}<br>xco2=%{marker.color}<extra></extra>",
         "hovertext": [
          "Mauna_loa",
          "Mauna_loa",
          "Mauna_loa",
          "Mauna_loa",
          "Mauna_loa",
          "Mauna_loa",
          "Mauna_loa",
          "Mauna_loa",
          "Mauna_loa",
          "Mauna_loa",
          "Mauna_loa",
          "Mauna_loa",
          "Mauna_loa",
          "Mauna_loa",
          "Mauna_loa",
          "Mauna_loa",
          "Mauna_loa",
          "Mauna_loa",
          "Mauna_loa",
          "Mauna_loa",
          "Mauna_loa",
          "Mauna_loa",
          "Mauna_loa",
          "Mauna_loa",
          "Mauna_loa",
          "Mauna_loa",
          "Mauna_loa",
          "Mauna_loa",
          "New_York",
          "New_York",
          "New_York",
          "New_York",
          "New_York",
          "New_York",
          "New_York",
          "New_York",
          "New_York",
          "New_York",
          "New_York",
          "New_York",
          "New_York",
          "New_York",
          "New_York",
          "New_York",
          "New_York",
          "New_York",
          "New_York",
          "New_York",
          "New_York",
          "New_York",
          "New_York",
          "New_York",
          "New_York",
          "New_York",
          "New_York",
          "New_York",
          "Paris",
          "Paris",
          "Paris",
          "Paris",
          "Paris",
          "Paris",
          "Paris",
          "Paris",
          "Paris",
          "Paris",
          "Paris",
          "Paris",
          "Paris",
          "Paris",
          "Paris",
          "Paris",
          "Paris",
          "Paris",
          "Paris",
          "Paris",
          "Paris",
          "Paris",
          "Paris",
          "Paris",
          "Paris",
          "Paris",
          "Paris",
          "Paris"
         ],
         "lat": [
          19.479488,
          19.479488,
          19.479488,
          19.479488,
          19.479488,
          19.479488,
          19.479488,
          19.479488,
          19.479488,
          19.479488,
          19.479488,
          19.479488,
          19.479488,
          19.479488,
          19.479488,
          19.479488,
          19.479488,
          19.479488,
          19.479488,
          19.479488,
          19.479488,
          19.479488,
          19.479488,
          19.479488,
          19.479488,
          19.479488,
          19.479488,
          19.479488,
          40.712776,
          40.712776,
          40.712776,
          40.712776,
          40.712776,
          40.712776,
          40.712776,
          40.712776,
          40.712776,
          40.712776,
          40.712776,
          40.712776,
          40.712776,
          40.712776,
          40.712776,
          40.712776,
          40.712776,
          40.712776,
          40.712776,
          40.712776,
          40.712776,
          40.712776,
          40.712776,
          40.712776,
          40.712776,
          40.712776,
          40.712776,
          40.712776,
          48.856613,
          48.856613,
          48.856613,
          48.856613,
          48.856613,
          48.856613,
          48.856613,
          48.856613,
          48.856613,
          48.856613,
          48.856613,
          48.856613,
          48.856613,
          48.856613,
          48.856613,
          48.856613,
          48.856613,
          48.856613,
          48.856613,
          48.856613,
          48.856613,
          48.856613,
          48.856613,
          48.856613,
          48.856613,
          48.856613,
          48.856613,
          48.856613
         ],
         "legendgroup": "",
         "lon": [
          -155.602829,
          -155.602829,
          -155.602829,
          -155.602829,
          -155.602829,
          -155.602829,
          -155.602829,
          -155.602829,
          -155.602829,
          -155.602829,
          -155.602829,
          -155.602829,
          -155.602829,
          -155.602829,
          -155.602829,
          -155.602829,
          -155.602829,
          -155.602829,
          -155.602829,
          -155.602829,
          -155.602829,
          -155.602829,
          -155.602829,
          -155.602829,
          -155.602829,
          -155.602829,
          -155.602829,
          -155.602829,
          -74.005974,
          -74.005974,
          -74.005974,
          -74.005974,
          -74.005974,
          -74.005974,
          -74.005974,
          -74.005974,
          -74.005974,
          -74.005974,
          -74.005974,
          -74.005974,
          -74.005974,
          -74.005974,
          -74.005974,
          -74.005974,
          -74.005974,
          -74.005974,
          -74.005974,
          -74.005974,
          -74.005974,
          -74.005974,
          -74.005974,
          -74.005974,
          -74.005974,
          -74.005974,
          -74.005974,
          -74.005974,
          2.352222,
          2.352222,
          2.352222,
          2.352222,
          2.352222,
          2.352222,
          2.352222,
          2.352222,
          2.352222,
          2.352222,
          2.352222,
          2.352222,
          2.352222,
          2.352222,
          2.352222,
          2.352222,
          2.352222,
          2.352222,
          2.352222,
          2.352222,
          2.352222,
          2.352222,
          2.352222,
          2.352222,
          2.352222,
          2.352222,
          2.352222,
          2.352222
         ],
         "marker": {
          "color": [
           417.9652860329952,
           418.60263809212483,
           417.9833777016029,
           417.51451499294495,
           417.151768488111,
           417.21338857314555,
           417.490449763136,
           417.88167800405057,
           417.72147233132273,
           417.5216563453432,
           417.35721606528386,
           417.3677007202059,
           417.8049093752634,
           418.0359610472806,
           418.10074253589846,
           417.94412027229555,
           417.3281886323821,
           417.2423359705135,
           417.3958004685118,
           417.4865498498548,
           417.65300193219446,
           418.04332795436494,
           417.9320931143593,
           418.20549085969105,
           418.26038432191126,
           418.14281212282367,
           418.2634875178337,
           418.2203047093935,
           419.4472821836825,
           418.5128527751658,
           418.6608421150595,
           419.06767364707775,
           420.1194278721232,
           419.1024236206431,
           418.93270827131346,
           419.41732342820615,
           420.2118288958445,
           419.4454049866181,
           419.9426548439078,
           419.81695540016517,
           421.2386811559554,
           419.7753805783577,
           419.72649705712683,
           419.8433744022623,
           418.9183600828983,
           419.3281383777503,
           419.62849718402134,
           419.43553151213564,
           419.3623062747065,
           419.3072745692916,
           419.71311657107435,
           420.17380110337393,
           420.3706303087529,
           419.73133556894027,
           419.6106528979726,
           420.13079655589536,
           418.4313766018022,
           417.900755564915,
           418.0352952971589,
           418.3105775155127,
           419.4901521259454,
           418.96231778082443,
           419.10814616130665,
           418.1982949376106,
           418.90069405781105,
           418.95602407748817,
           419.67998549807817,
           419.41275776480325,
           419.06982733053155,
           418.78424235619605,
           419.31155283236876,
           418.2703596598003,
           418.9695173408836,
           418.5568213870284,
           419.95117862825276,
           418.85632526827976,
           419.3759050394874,
           419.27431084332056,
           419.1162261122372,
           419.4824396108743,
           420.0583462079521,
           419.89183227997273,
           419.8118913336657,
           419.7592570562847
          ],
          "coloraxis": "coloraxis"
         },
         "mode": "markers",
         "name": "",
         "showlegend": false,
         "subplot": "mapbox",
         "type": "scattermapbox"
        }
       ],
       "layout": {
        "template": {
         "data": {
          "histogram2dcontour": [
           {
            "type": "histogram2dcontour",
            "colorbar": {
             "outlinewidth": 0,
             "ticks": ""
            },
            "colorscale": [
             [
              0.0,
              "#0d0887"
             ],
             [
              0.1111111111111111,
              "#46039f"
             ],
             [
              0.2222222222222222,
              "#7201a8"
             ],
             [
              0.3333333333333333,
              "#9c179e"
             ],
             [
              0.4444444444444444,
              "#bd3786"
             ],
             [
              0.5555555555555556,
              "#d8576b"
             ],
             [
              0.6666666666666666,
              "#ed7953"
             ],
             [
              0.7777777777777778,
              "#fb9f3a"
             ],
             [
              0.8888888888888888,
              "#fdca26"
             ],
             [
              1.0,
              "#f0f921"
             ]
            ]
           }
          ],
          "choropleth": [
           {
            "type": "choropleth",
            "colorbar": {
             "outlinewidth": 0,
             "ticks": ""
            }
           }
          ],
          "histogram2d": [
           {
            "type": "histogram2d",
            "colorbar": {
             "outlinewidth": 0,
             "ticks": ""
            },
            "colorscale": [
             [
              0.0,
              "#0d0887"
             ],
             [
              0.1111111111111111,
              "#46039f"
             ],
             [
              0.2222222222222222,
              "#7201a8"
             ],
             [
              0.3333333333333333,
              "#9c179e"
             ],
             [
              0.4444444444444444,
              "#bd3786"
             ],
             [
              0.5555555555555556,
              "#d8576b"
             ],
             [
              0.6666666666666666,
              "#ed7953"
             ],
             [
              0.7777777777777778,
              "#fb9f3a"
             ],
             [
              0.8888888888888888,
              "#fdca26"
             ],
             [
              1.0,
              "#f0f921"
             ]
            ]
           }
          ],
          "heatmap": [
           {
            "type": "heatmap",
            "colorbar": {
             "outlinewidth": 0,
             "ticks": ""
            },
            "colorscale": [
             [
              0.0,
              "#0d0887"
             ],
             [
              0.1111111111111111,
              "#46039f"
             ],
             [
              0.2222222222222222,
              "#7201a8"
             ],
             [
              0.3333333333333333,
              "#9c179e"
             ],
             [
              0.4444444444444444,
              "#bd3786"
             ],
             [
              0.5555555555555556,
              "#d8576b"
             ],
             [
              0.6666666666666666,
              "#ed7953"
             ],
             [
              0.7777777777777778,
              "#fb9f3a"
             ],
             [
              0.8888888888888888,
              "#fdca26"
             ],
             [
              1.0,
              "#f0f921"
             ]
            ]
           }
          ],
          "heatmapgl": [
           {
            "type": "heatmapgl",
            "colorbar": {
             "outlinewidth": 0,
             "ticks": ""
            },
            "colorscale": [
             [
              0.0,
              "#0d0887"
             ],
             [
              0.1111111111111111,
              "#46039f"
             ],
             [
              0.2222222222222222,
              "#7201a8"
             ],
             [
              0.3333333333333333,
              "#9c179e"
             ],
             [
              0.4444444444444444,
              "#bd3786"
             ],
             [
              0.5555555555555556,
              "#d8576b"
             ],
             [
              0.6666666666666666,
              "#ed7953"
             ],
             [
              0.7777777777777778,
              "#fb9f3a"
             ],
             [
              0.8888888888888888,
              "#fdca26"
             ],
             [
              1.0,
              "#f0f921"
             ]
            ]
           }
          ],
          "contourcarpet": [
           {
            "type": "contourcarpet",
            "colorbar": {
             "outlinewidth": 0,
             "ticks": ""
            }
           }
          ],
          "contour": [
           {
            "type": "contour",
            "colorbar": {
             "outlinewidth": 0,
             "ticks": ""
            },
            "colorscale": [
             [
              0.0,
              "#0d0887"
             ],
             [
              0.1111111111111111,
              "#46039f"
             ],
             [
              0.2222222222222222,
              "#7201a8"
             ],
             [
              0.3333333333333333,
              "#9c179e"
             ],
             [
              0.4444444444444444,
              "#bd3786"
             ],
             [
              0.5555555555555556,
              "#d8576b"
             ],
             [
              0.6666666666666666,
              "#ed7953"
             ],
             [
              0.7777777777777778,
              "#fb9f3a"
             ],
             [
              0.8888888888888888,
              "#fdca26"
             ],
             [
              1.0,
              "#f0f921"
             ]
            ]
           }
          ],
          "surface": [
           {
            "type": "surface",
            "colorbar": {
             "outlinewidth": 0,
             "ticks": ""
            },
            "colorscale": [
             [
              0.0,
              "#0d0887"
             ],
             [
              0.1111111111111111,
              "#46039f"
             ],
             [
              0.2222222222222222,
              "#7201a8"
             ],
             [
              0.3333333333333333,
              "#9c179e"
             ],
             [
              0.4444444444444444,
              "#bd3786"
             ],
             [
              0.5555555555555556,
              "#d8576b"
             ],
             [
              0.6666666666666666,
              "#ed7953"
             ],
             [
              0.7777777777777778,
              "#fb9f3a"
             ],
             [
              0.8888888888888888,
              "#fdca26"
             ],
             [
              1.0,
              "#f0f921"
             ]
            ]
           }
          ],
          "mesh3d": [
           {
            "type": "mesh3d",
            "colorbar": {
             "outlinewidth": 0,
             "ticks": ""
            }
           }
          ],
          "scatter": [
           {
            "marker": {
             "line": {
              "color": "#283442"
             }
            },
            "type": "scatter"
           }
          ],
          "parcoords": [
           {
            "type": "parcoords",
            "line": {
             "colorbar": {
              "outlinewidth": 0,
              "ticks": ""
             }
            }
           }
          ],
          "scatterpolargl": [
           {
            "type": "scatterpolargl",
            "marker": {
             "colorbar": {
              "outlinewidth": 0,
              "ticks": ""
             }
            }
           }
          ],
          "bar": [
           {
            "error_x": {
             "color": "#f2f5fa"
            },
            "error_y": {
             "color": "#f2f5fa"
            },
            "marker": {
             "line": {
              "color": "rgb(17,17,17)",
              "width": 0.5
             },
             "pattern": {
              "fillmode": "overlay",
              "size": 10,
              "solidity": 0.2
             }
            },
            "type": "bar"
           }
          ],
          "scattergeo": [
           {
            "type": "scattergeo",
            "marker": {
             "colorbar": {
              "outlinewidth": 0,
              "ticks": ""
             }
            }
           }
          ],
          "scatterpolar": [
           {
            "type": "scatterpolar",
            "marker": {
             "colorbar": {
              "outlinewidth": 0,
              "ticks": ""
             }
            }
           }
          ],
          "histogram": [
           {
            "marker": {
             "pattern": {
              "fillmode": "overlay",
              "size": 10,
              "solidity": 0.2
             }
            },
            "type": "histogram"
           }
          ],
          "scattergl": [
           {
            "marker": {
             "line": {
              "color": "#283442"
             }
            },
            "type": "scattergl"
           }
          ],
          "scatter3d": [
           {
            "type": "scatter3d",
            "line": {
             "colorbar": {
              "outlinewidth": 0,
              "ticks": ""
             }
            },
            "marker": {
             "colorbar": {
              "outlinewidth": 0,
              "ticks": ""
             }
            }
           }
          ],
          "scattermapbox": [
           {
            "type": "scattermapbox",
            "marker": {
             "colorbar": {
              "outlinewidth": 0,
              "ticks": ""
             }
            }
           }
          ],
          "scatterternary": [
           {
            "type": "scatterternary",
            "marker": {
             "colorbar": {
              "outlinewidth": 0,
              "ticks": ""
             }
            }
           }
          ],
          "scattercarpet": [
           {
            "type": "scattercarpet",
            "marker": {
             "colorbar": {
              "outlinewidth": 0,
              "ticks": ""
             }
            }
           }
          ],
          "carpet": [
           {
            "aaxis": {
             "endlinecolor": "#A2B1C6",
             "gridcolor": "#506784",
             "linecolor": "#506784",
             "minorgridcolor": "#506784",
             "startlinecolor": "#A2B1C6"
            },
            "baxis": {
             "endlinecolor": "#A2B1C6",
             "gridcolor": "#506784",
             "linecolor": "#506784",
             "minorgridcolor": "#506784",
             "startlinecolor": "#A2B1C6"
            },
            "type": "carpet"
           }
          ],
          "table": [
           {
            "cells": {
             "fill": {
              "color": "#506784"
             },
             "line": {
              "color": "rgb(17,17,17)"
             }
            },
            "header": {
             "fill": {
              "color": "#2a3f5f"
             },
             "line": {
              "color": "rgb(17,17,17)"
             }
            },
            "type": "table"
           }
          ],
          "barpolar": [
           {
            "marker": {
             "line": {
              "color": "rgb(17,17,17)",
              "width": 0.5
             },
             "pattern": {
              "fillmode": "overlay",
              "size": 10,
              "solidity": 0.2
             }
            },
            "type": "barpolar"
           }
          ],
          "pie": [
           {
            "automargin": true,
            "type": "pie"
           }
          ]
         },
         "layout": {
          "autotypenumbers": "strict",
          "colorway": [
           "#636efa",
           "#EF553B",
           "#00cc96",
           "#ab63fa",
           "#FFA15A",
           "#19d3f3",
           "#FF6692",
           "#B6E880",
           "#FF97FF",
           "#FECB52"
          ],
          "font": {
           "color": "#f2f5fa"
          },
          "hovermode": "closest",
          "hoverlabel": {
           "align": "left"
          },
          "paper_bgcolor": "rgb(17,17,17)",
          "plot_bgcolor": "rgb(17,17,17)",
          "polar": {
           "bgcolor": "rgb(17,17,17)",
           "angularaxis": {
            "gridcolor": "#506784",
            "linecolor": "#506784",
            "ticks": ""
           },
           "radialaxis": {
            "gridcolor": "#506784",
            "linecolor": "#506784",
            "ticks": ""
           }
          },
          "ternary": {
           "bgcolor": "rgb(17,17,17)",
           "aaxis": {
            "gridcolor": "#506784",
            "linecolor": "#506784",
            "ticks": ""
           },
           "baxis": {
            "gridcolor": "#506784",
            "linecolor": "#506784",
            "ticks": ""
           },
           "caxis": {
            "gridcolor": "#506784",
            "linecolor": "#506784",
            "ticks": ""
           }
          },
          "coloraxis": {
           "colorbar": {
            "outlinewidth": 0,
            "ticks": ""
           }
          },
          "colorscale": {
           "sequential": [
            [
             0.0,
             "#0d0887"
            ],
            [
             0.1111111111111111,
             "#46039f"
            ],
            [
             0.2222222222222222,
             "#7201a8"
            ],
            [
             0.3333333333333333,
             "#9c179e"
            ],
            [
             0.4444444444444444,
             "#bd3786"
            ],
            [
             0.5555555555555556,
             "#d8576b"
            ],
            [
             0.6666666666666666,
             "#ed7953"
            ],
            [
             0.7777777777777778,
             "#fb9f3a"
            ],
            [
             0.8888888888888888,
             "#fdca26"
            ],
            [
             1.0,
             "#f0f921"
            ]
           ],
           "sequentialminus": [
            [
             0.0,
             "#0d0887"
            ],
            [
             0.1111111111111111,
             "#46039f"
            ],
            [
             0.2222222222222222,
             "#7201a8"
            ],
            [
             0.3333333333333333,
             "#9c179e"
            ],
            [
             0.4444444444444444,
             "#bd3786"
            ],
            [
             0.5555555555555556,
             "#d8576b"
            ],
            [
             0.6666666666666666,
             "#ed7953"
            ],
            [
             0.7777777777777778,
             "#fb9f3a"
            ],
            [
             0.8888888888888888,
             "#fdca26"
            ],
            [
             1.0,
             "#f0f921"
            ]
           ],
           "diverging": [
            [
             0,
             "#8e0152"
            ],
            [
             0.1,
             "#c51b7d"
            ],
            [
             0.2,
             "#de77ae"
            ],
            [
             0.3,
             "#f1b6da"
            ],
            [
             0.4,
             "#fde0ef"
            ],
            [
             0.5,
             "#f7f7f7"
            ],
            [
             0.6,
             "#e6f5d0"
            ],
            [
             0.7,
             "#b8e186"
            ],
            [
             0.8,
             "#7fbc41"
            ],
            [
             0.9,
             "#4d9221"
            ],
            [
             1,
             "#276419"
            ]
           ]
          },
          "xaxis": {
           "gridcolor": "#283442",
           "linecolor": "#506784",
           "ticks": "",
           "title": {
            "standoff": 15
           },
           "zerolinecolor": "#283442",
           "automargin": true,
           "zerolinewidth": 2
          },
          "yaxis": {
           "gridcolor": "#283442",
           "linecolor": "#506784",
           "ticks": "",
           "title": {
            "standoff": 15
           },
           "zerolinecolor": "#283442",
           "automargin": true,
           "zerolinewidth": 2
          },
          "scene": {
           "xaxis": {
            "backgroundcolor": "rgb(17,17,17)",
            "gridcolor": "#506784",
            "linecolor": "#506784",
            "showbackground": true,
            "ticks": "",
            "zerolinecolor": "#C8D4E3",
            "gridwidth": 2
           },
           "yaxis": {
            "backgroundcolor": "rgb(17,17,17)",
            "gridcolor": "#506784",
            "linecolor": "#506784",
            "showbackground": true,
            "ticks": "",
            "zerolinecolor": "#C8D4E3",
            "gridwidth": 2
           },
           "zaxis": {
            "backgroundcolor": "rgb(17,17,17)",
            "gridcolor": "#506784",
            "linecolor": "#506784",
            "showbackground": true,
            "ticks": "",
            "zerolinecolor": "#C8D4E3",
            "gridwidth": 2
           }
          },
          "shapedefaults": {
           "line": {
            "color": "#f2f5fa"
           }
          },
          "annotationdefaults": {
           "arrowcolor": "#f2f5fa",
           "arrowhead": 0,
           "arrowwidth": 1
          },
          "geo": {
           "bgcolor": "rgb(17,17,17)",
           "landcolor": "rgb(17,17,17)",
           "subunitcolor": "#506784",
           "showland": true,
           "showlakes": true,
           "lakecolor": "rgb(17,17,17)"
          },
          "title": {
           "x": 0.05
          },
          "updatemenudefaults": {
           "bgcolor": "#506784",
           "borderwidth": 0
          },
          "sliderdefaults": {
           "bgcolor": "#C8D4E3",
           "borderwidth": 1,
           "bordercolor": "rgb(17,17,17)",
           "tickwidth": 0
          },
          "mapbox": {
           "style": "dark"
          }
         }
        },
        "mapbox": {
         "domain": {
          "x": [
           0.0,
           1.0
          ],
          "y": [
           0.0,
           1.0
          ]
         },
         "center": {
          "lat": 36.34962566666666,
          "lon": -75.75219366666667
         },
         "accesstoken": "pk.eyJ1Ijoic2FnYXJsaW1idTAiLCJhIjoiY2t2MXhhMm5mNnE5ajJ3dDl2eDZvNTM2NiJ9.1bwmb8HPgFZWwR8kcO5rOA",
         "zoom": 0.85,
         "style": "dark"
        },
        "coloraxis": {
         "colorbar": {
          "title": {
           "text": "xco2"
          }
         },
         "colorscale": [
          [
           0.0,
           "#000000"
          ],
          [
           0.0625,
           "#001f4d"
          ],
          [
           0.125,
           "#003786"
          ],
          [
           0.1875,
           "#0e58a8"
          ],
          [
           0.25,
           "#217eb8"
          ],
          [
           0.3125,
           "#30a4ca"
          ],
          [
           0.375,
           "#54c8df"
          ],
          [
           0.4375,
           "#9be4ef"
          ],
          [
           0.5,
           "#e1e9d1"
          ],
          [
           0.5625,
           "#f3d573"
          ],
          [
           0.625,
           "#e7b000"
          ],
          [
           0.6875,
           "#da8200"
          ],
          [
           0.75,
           "#c65400"
          ],
          [
           0.8125,
           "#ac2301"
          ],
          [
           0.875,
           "#820000"
          ],
          [
           0.9375,
           "#4c0000"
          ],
          [
           1.0,
           "#000000"
          ]
         ]
        },
        "legend": {
         "tracegroupgap": 0
        },
        "margin": {
         "t": 0,
         "b": 0,
         "l": 0,
         "r": 0
        },
        "height": 540,
        "width": 960,
        "autosize": false,
        "hovermode": "closest"
       },
       "config": {
        "plotlyServerURL": "https://plot.ly"
       }
      },
      "text/html": "<div>                            <div id=\"51db6540-6641-40b4-ae3a-9e2053e8af5b\" class=\"plotly-graph-div\" style=\"height:540px; width:960px;\"></div>            <script type=\"text/javascript\">                require([\"plotly\"], function(Plotly) {                    window.PLOTLYENV=window.PLOTLYENV || {};                                    if (document.getElementById(\"51db6540-6641-40b4-ae3a-9e2053e8af5b\")) {                    Plotly.newPlot(                        \"51db6540-6641-40b4-ae3a-9e2053e8af5b\",                        [{\"hovertemplate\":\"<b>%{hovertext}</b><br><br>lat=%{lat}<br>lon=%{lon}<br>xco2=%{marker.color}<extra></extra>\",\"hovertext\":[\"Mauna_loa\",\"Mauna_loa\",\"Mauna_loa\",\"Mauna_loa\",\"Mauna_loa\",\"Mauna_loa\",\"Mauna_loa\",\"Mauna_loa\",\"Mauna_loa\",\"Mauna_loa\",\"Mauna_loa\",\"Mauna_loa\",\"Mauna_loa\",\"Mauna_loa\",\"Mauna_loa\",\"Mauna_loa\",\"Mauna_loa\",\"Mauna_loa\",\"Mauna_loa\",\"Mauna_loa\",\"Mauna_loa\",\"Mauna_loa\",\"Mauna_loa\",\"Mauna_loa\",\"Mauna_loa\",\"Mauna_loa\",\"Mauna_loa\",\"Mauna_loa\",\"New_York\",\"New_York\",\"New_York\",\"New_York\",\"New_York\",\"New_York\",\"New_York\",\"New_York\",\"New_York\",\"New_York\",\"New_York\",\"New_York\",\"New_York\",\"New_York\",\"New_York\",\"New_York\",\"New_York\",\"New_York\",\"New_York\",\"New_York\",\"New_York\",\"New_York\",\"New_York\",\"New_York\",\"New_York\",\"New_York\",\"New_York\",\"New_York\",\"Paris\",\"Paris\",\"Paris\",\"Paris\",\"Paris\",\"Paris\",\"Paris\",\"Paris\",\"Paris\",\"Paris\",\"Paris\",\"Paris\",\"Paris\",\"Paris\",\"Paris\",\"Paris\",\"Paris\",\"Paris\",\"Paris\",\"Paris\",\"Paris\",\"Paris\",\"Paris\",\"Paris\",\"Paris\",\"Paris\",\"Paris\",\"Paris\"],\"lat\":[19.479488,19.479488,19.479488,19.479488,19.479488,19.479488,19.479488,19.479488,19.479488,19.479488,19.479488,19.479488,19.479488,19.479488,19.479488,19.479488,19.479488,19.479488,19.479488,19.479488,19.479488,19.479488,19.479488,19.479488,19.479488,19.479488,19.479488,19.479488,40.712776,40.712776,40.712776,40.712776,40.712776,40.712776,40.712776,40.712776,40.712776,40.712776,40.712776,40.712776,40.712776,40.712776,40.712776,40.712776,40.712776,40.712776,40.712776,40.712776,40.712776,40.712776,40.712776,40.712776,40.712776,40.712776,40.712776,40.712776,48.856613,48.856613,48.856613,48.856613,48.856613,48.856613,48.856613,48.856613,48.856613,48.856613,48.856613,48.856613,48.856613,48.856613,48.856613,48.856613,48.856613,48.856613,48.856613,48.856613,48.856613,48.856613,48.856613,48.856613,48.856613,48.856613,48.856613,48.856613],\"legendgroup\":\"\",\"lon\":[-155.602829,-155.602829,-155.602829,-155.602829,-155.602829,-155.602829,-155.602829,-155.602829,-155.602829,-155.602829,-155.602829,-155.602829,-155.602829,-155.602829,-155.602829,-155.602829,-155.602829,-155.602829,-155.602829,-155.602829,-155.602829,-155.602829,-155.602829,-155.602829,-155.602829,-155.602829,-155.602829,-155.602829,-74.005974,-74.005974,-74.005974,-74.005974,-74.005974,-74.005974,-74.005974,-74.005974,-74.005974,-74.005974,-74.005974,-74.005974,-74.005974,-74.005974,-74.005974,-74.005974,-74.005974,-74.005974,-74.005974,-74.005974,-74.005974,-74.005974,-74.005974,-74.005974,-74.005974,-74.005974,-74.005974,-74.005974,2.352222,2.352222,2.352222,2.352222,2.352222,2.352222,2.352222,2.352222,2.352222,2.352222,2.352222,2.352222,2.352222,2.352222,2.352222,2.352222,2.352222,2.352222,2.352222,2.352222,2.352222,2.352222,2.352222,2.352222,2.352222,2.352222,2.352222,2.352222],\"marker\":{\"color\":[417.9652860329952,418.60263809212483,417.9833777016029,417.51451499294495,417.151768488111,417.21338857314555,417.490449763136,417.88167800405057,417.72147233132273,417.5216563453432,417.35721606528386,417.3677007202059,417.8049093752634,418.0359610472806,418.10074253589846,417.94412027229555,417.3281886323821,417.2423359705135,417.3958004685118,417.4865498498548,417.65300193219446,418.04332795436494,417.9320931143593,418.20549085969105,418.26038432191126,418.14281212282367,418.2634875178337,418.2203047093935,419.4472821836825,418.5128527751658,418.6608421150595,419.06767364707775,420.1194278721232,419.1024236206431,418.93270827131346,419.41732342820615,420.2118288958445,419.4454049866181,419.9426548439078,419.81695540016517,421.2386811559554,419.7753805783577,419.72649705712683,419.8433744022623,418.9183600828983,419.3281383777503,419.62849718402134,419.43553151213564,419.3623062747065,419.3072745692916,419.71311657107435,420.17380110337393,420.3706303087529,419.73133556894027,419.6106528979726,420.13079655589536,418.4313766018022,417.900755564915,418.0352952971589,418.3105775155127,419.4901521259454,418.96231778082443,419.10814616130665,418.1982949376106,418.90069405781105,418.95602407748817,419.67998549807817,419.41275776480325,419.06982733053155,418.78424235619605,419.31155283236876,418.2703596598003,418.9695173408836,418.5568213870284,419.95117862825276,418.85632526827976,419.3759050394874,419.27431084332056,419.1162261122372,419.4824396108743,420.0583462079521,419.89183227997273,419.8118913336657,419.7592570562847],\"coloraxis\":\"coloraxis\"},\"mode\":\"markers\",\"name\":\"\",\"showlegend\":false,\"subplot\":\"mapbox\",\"type\":\"scattermapbox\"}],                        {\"template\":{\"data\":{\"histogram2dcontour\":[{\"type\":\"histogram2dcontour\",\"colorbar\":{\"outlinewidth\":0,\"ticks\":\"\"},\"colorscale\":[[0.0,\"#0d0887\"],[0.1111111111111111,\"#46039f\"],[0.2222222222222222,\"#7201a8\"],[0.3333333333333333,\"#9c179e\"],[0.4444444444444444,\"#bd3786\"],[0.5555555555555556,\"#d8576b\"],[0.6666666666666666,\"#ed7953\"],[0.7777777777777778,\"#fb9f3a\"],[0.8888888888888888,\"#fdca26\"],[1.0,\"#f0f921\"]]}],\"choropleth\":[{\"type\":\"choropleth\",\"colorbar\":{\"outlinewidth\":0,\"ticks\":\"\"}}],\"histogram2d\":[{\"type\":\"histogram2d\",\"colorbar\":{\"outlinewidth\":0,\"ticks\":\"\"},\"colorscale\":[[0.0,\"#0d0887\"],[0.1111111111111111,\"#46039f\"],[0.2222222222222222,\"#7201a8\"],[0.3333333333333333,\"#9c179e\"],[0.4444444444444444,\"#bd3786\"],[0.5555555555555556,\"#d8576b\"],[0.6666666666666666,\"#ed7953\"],[0.7777777777777778,\"#fb9f3a\"],[0.8888888888888888,\"#fdca26\"],[1.0,\"#f0f921\"]]}],\"heatmap\":[{\"type\":\"heatmap\",\"colorbar\":{\"outlinewidth\":0,\"ticks\":\"\"},\"colorscale\":[[0.0,\"#0d0887\"],[0.1111111111111111,\"#46039f\"],[0.2222222222222222,\"#7201a8\"],[0.3333333333333333,\"#9c179e\"],[0.4444444444444444,\"#bd3786\"],[0.5555555555555556,\"#d8576b\"],[0.6666666666666666,\"#ed7953\"],[0.7777777777777778,\"#fb9f3a\"],[0.8888888888888888,\"#fdca26\"],[1.0,\"#f0f921\"]]}],\"heatmapgl\":[{\"type\":\"heatmapgl\",\"colorbar\":{\"outlinewidth\":0,\"ticks\":\"\"},\"colorscale\":[[0.0,\"#0d0887\"],[0.1111111111111111,\"#46039f\"],[0.2222222222222222,\"#7201a8\"],[0.3333333333333333,\"#9c179e\"],[0.4444444444444444,\"#bd3786\"],[0.5555555555555556,\"#d8576b\"],[0.6666666666666666,\"#ed7953\"],[0.7777777777777778,\"#fb9f3a\"],[0.8888888888888888,\"#fdca26\"],[1.0,\"#f0f921\"]]}],\"contourcarpet\":[{\"type\":\"contourcarpet\",\"colorbar\":{\"outlinewidth\":0,\"ticks\":\"\"}}],\"contour\":[{\"type\":\"contour\",\"colorbar\":{\"outlinewidth\":0,\"ticks\":\"\"},\"colorscale\":[[0.0,\"#0d0887\"],[0.1111111111111111,\"#46039f\"],[0.2222222222222222,\"#7201a8\"],[0.3333333333333333,\"#9c179e\"],[0.4444444444444444,\"#bd3786\"],[0.5555555555555556,\"#d8576b\"],[0.6666666666666666,\"#ed7953\"],[0.7777777777777778,\"#fb9f3a\"],[0.8888888888888888,\"#fdca26\"],[1.0,\"#f0f921\"]]}],\"surface\":[{\"type\":\"surface\",\"colorbar\":{\"outlinewidth\":0,\"ticks\":\"\"},\"colorscale\":[[0.0,\"#0d0887\"],[0.1111111111111111,\"#46039f\"],[0.2222222222222222,\"#7201a8\"],[0.3333333333333333,\"#9c179e\"],[0.4444444444444444,\"#bd3786\"],[0.5555555555555556,\"#d8576b\"],[0.6666666666666666,\"#ed7953\"],[0.7777777777777778,\"#fb9f3a\"],[0.8888888888888888,\"#fdca26\"],[1.0,\"#f0f921\"]]}],\"mesh3d\":[{\"type\":\"mesh3d\",\"colorbar\":{\"outlinewidth\":0,\"ticks\":\"\"}}],\"scatter\":[{\"marker\":{\"line\":{\"color\":\"#283442\"}},\"type\":\"scatter\"}],\"parcoords\":[{\"type\":\"parcoords\",\"line\":{\"colorbar\":{\"outlinewidth\":0,\"ticks\":\"\"}}}],\"scatterpolargl\":[{\"type\":\"scatterpolargl\",\"marker\":{\"colorbar\":{\"outlinewidth\":0,\"ticks\":\"\"}}}],\"bar\":[{\"error_x\":{\"color\":\"#f2f5fa\"},\"error_y\":{\"color\":\"#f2f5fa\"},\"marker\":{\"line\":{\"color\":\"rgb(17,17,17)\",\"width\":0.5},\"pattern\":{\"fillmode\":\"overlay\",\"size\":10,\"solidity\":0.2}},\"type\":\"bar\"}],\"scattergeo\":[{\"type\":\"scattergeo\",\"marker\":{\"colorbar\":{\"outlinewidth\":0,\"ticks\":\"\"}}}],\"scatterpolar\":[{\"type\":\"scatterpolar\",\"marker\":{\"colorbar\":{\"outlinewidth\":0,\"ticks\":\"\"}}}],\"histogram\":[{\"marker\":{\"pattern\":{\"fillmode\":\"overlay\",\"size\":10,\"solidity\":0.2}},\"type\":\"histogram\"}],\"scattergl\":[{\"marker\":{\"line\":{\"color\":\"#283442\"}},\"type\":\"scattergl\"}],\"scatter3d\":[{\"type\":\"scatter3d\",\"line\":{\"colorbar\":{\"outlinewidth\":0,\"ticks\":\"\"}},\"marker\":{\"colorbar\":{\"outlinewidth\":0,\"ticks\":\"\"}}}],\"scattermapbox\":[{\"type\":\"scattermapbox\",\"marker\":{\"colorbar\":{\"outlinewidth\":0,\"ticks\":\"\"}}}],\"scatterternary\":[{\"type\":\"scatterternary\",\"marker\":{\"colorbar\":{\"outlinewidth\":0,\"ticks\":\"\"}}}],\"scattercarpet\":[{\"type\":\"scattercarpet\",\"marker\":{\"colorbar\":{\"outlinewidth\":0,\"ticks\":\"\"}}}],\"carpet\":[{\"aaxis\":{\"endlinecolor\":\"#A2B1C6\",\"gridcolor\":\"#506784\",\"linecolor\":\"#506784\",\"minorgridcolor\":\"#506784\",\"startlinecolor\":\"#A2B1C6\"},\"baxis\":{\"endlinecolor\":\"#A2B1C6\",\"gridcolor\":\"#506784\",\"linecolor\":\"#506784\",\"minorgridcolor\":\"#506784\",\"startlinecolor\":\"#A2B1C6\"},\"type\":\"carpet\"}],\"table\":[{\"cells\":{\"fill\":{\"color\":\"#506784\"},\"line\":{\"color\":\"rgb(17,17,17)\"}},\"header\":{\"fill\":{\"color\":\"#2a3f5f\"},\"line\":{\"color\":\"rgb(17,17,17)\"}},\"type\":\"table\"}],\"barpolar\":[{\"marker\":{\"line\":{\"color\":\"rgb(17,17,17)\",\"width\":0.5},\"pattern\":{\"fillmode\":\"overlay\",\"size\":10,\"solidity\":0.2}},\"type\":\"barpolar\"}],\"pie\":[{\"automargin\":true,\"type\":\"pie\"}]},\"layout\":{\"autotypenumbers\":\"strict\",\"colorway\":[\"#636efa\",\"#EF553B\",\"#00cc96\",\"#ab63fa\",\"#FFA15A\",\"#19d3f3\",\"#FF6692\",\"#B6E880\",\"#FF97FF\",\"#FECB52\"],\"font\":{\"color\":\"#f2f5fa\"},\"hovermode\":\"closest\",\"hoverlabel\":{\"align\":\"left\"},\"paper_bgcolor\":\"rgb(17,17,17)\",\"plot_bgcolor\":\"rgb(17,17,17)\",\"polar\":{\"bgcolor\":\"rgb(17,17,17)\",\"angularaxis\":{\"gridcolor\":\"#506784\",\"linecolor\":\"#506784\",\"ticks\":\"\"},\"radialaxis\":{\"gridcolor\":\"#506784\",\"linecolor\":\"#506784\",\"ticks\":\"\"}},\"ternary\":{\"bgcolor\":\"rgb(17,17,17)\",\"aaxis\":{\"gridcolor\":\"#506784\",\"linecolor\":\"#506784\",\"ticks\":\"\"},\"baxis\":{\"gridcolor\":\"#506784\",\"linecolor\":\"#506784\",\"ticks\":\"\"},\"caxis\":{\"gridcolor\":\"#506784\",\"linecolor\":\"#506784\",\"ticks\":\"\"}},\"coloraxis\":{\"colorbar\":{\"outlinewidth\":0,\"ticks\":\"\"}},\"colorscale\":{\"sequential\":[[0.0,\"#0d0887\"],[0.1111111111111111,\"#46039f\"],[0.2222222222222222,\"#7201a8\"],[0.3333333333333333,\"#9c179e\"],[0.4444444444444444,\"#bd3786\"],[0.5555555555555556,\"#d8576b\"],[0.6666666666666666,\"#ed7953\"],[0.7777777777777778,\"#fb9f3a\"],[0.8888888888888888,\"#fdca26\"],[1.0,\"#f0f921\"]],\"sequentialminus\":[[0.0,\"#0d0887\"],[0.1111111111111111,\"#46039f\"],[0.2222222222222222,\"#7201a8\"],[0.3333333333333333,\"#9c179e\"],[0.4444444444444444,\"#bd3786\"],[0.5555555555555556,\"#d8576b\"],[0.6666666666666666,\"#ed7953\"],[0.7777777777777778,\"#fb9f3a\"],[0.8888888888888888,\"#fdca26\"],[1.0,\"#f0f921\"]],\"diverging\":[[0,\"#8e0152\"],[0.1,\"#c51b7d\"],[0.2,\"#de77ae\"],[0.3,\"#f1b6da\"],[0.4,\"#fde0ef\"],[0.5,\"#f7f7f7\"],[0.6,\"#e6f5d0\"],[0.7,\"#b8e186\"],[0.8,\"#7fbc41\"],[0.9,\"#4d9221\"],[1,\"#276419\"]]},\"xaxis\":{\"gridcolor\":\"#283442\",\"linecolor\":\"#506784\",\"ticks\":\"\",\"title\":{\"standoff\":15},\"zerolinecolor\":\"#283442\",\"automargin\":true,\"zerolinewidth\":2},\"yaxis\":{\"gridcolor\":\"#283442\",\"linecolor\":\"#506784\",\"ticks\":\"\",\"title\":{\"standoff\":15},\"zerolinecolor\":\"#283442\",\"automargin\":true,\"zerolinewidth\":2},\"scene\":{\"xaxis\":{\"backgroundcolor\":\"rgb(17,17,17)\",\"gridcolor\":\"#506784\",\"linecolor\":\"#506784\",\"showbackground\":true,\"ticks\":\"\",\"zerolinecolor\":\"#C8D4E3\",\"gridwidth\":2},\"yaxis\":{\"backgroundcolor\":\"rgb(17,17,17)\",\"gridcolor\":\"#506784\",\"linecolor\":\"#506784\",\"showbackground\":true,\"ticks\":\"\",\"zerolinecolor\":\"#C8D4E3\",\"gridwidth\":2},\"zaxis\":{\"backgroundcolor\":\"rgb(17,17,17)\",\"gridcolor\":\"#506784\",\"linecolor\":\"#506784\",\"showbackground\":true,\"ticks\":\"\",\"zerolinecolor\":\"#C8D4E3\",\"gridwidth\":2}},\"shapedefaults\":{\"line\":{\"color\":\"#f2f5fa\"}},\"annotationdefaults\":{\"arrowcolor\":\"#f2f5fa\",\"arrowhead\":0,\"arrowwidth\":1},\"geo\":{\"bgcolor\":\"rgb(17,17,17)\",\"landcolor\":\"rgb(17,17,17)\",\"subunitcolor\":\"#506784\",\"showland\":true,\"showlakes\":true,\"lakecolor\":\"rgb(17,17,17)\"},\"title\":{\"x\":0.05},\"updatemenudefaults\":{\"bgcolor\":\"#506784\",\"borderwidth\":0},\"sliderdefaults\":{\"bgcolor\":\"#C8D4E3\",\"borderwidth\":1,\"bordercolor\":\"rgb(17,17,17)\",\"tickwidth\":0},\"mapbox\":{\"style\":\"dark\"}}},\"mapbox\":{\"domain\":{\"x\":[0.0,1.0],\"y\":[0.0,1.0]},\"center\":{\"lat\":36.34962566666666,\"lon\":-75.75219366666667},\"accesstoken\":\"pk.eyJ1Ijoic2FnYXJsaW1idTAiLCJhIjoiY2t2MXhhMm5mNnE5ajJ3dDl2eDZvNTM2NiJ9.1bwmb8HPgFZWwR8kcO5rOA\",\"zoom\":0.85,\"style\":\"dark\"},\"coloraxis\":{\"colorbar\":{\"title\":{\"text\":\"xco2\"}},\"colorscale\":[[0.0,\"#000000\"],[0.0625,\"#001f4d\"],[0.125,\"#003786\"],[0.1875,\"#0e58a8\"],[0.25,\"#217eb8\"],[0.3125,\"#30a4ca\"],[0.375,\"#54c8df\"],[0.4375,\"#9be4ef\"],[0.5,\"#e1e9d1\"],[0.5625,\"#f3d573\"],[0.625,\"#e7b000\"],[0.6875,\"#da8200\"],[0.75,\"#c65400\"],[0.8125,\"#ac2301\"],[0.875,\"#820000\"],[0.9375,\"#4c0000\"],[1.0,\"#000000\"]]},\"legend\":{\"tracegroupgap\":0},\"margin\":{\"t\":0,\"b\":0,\"l\":0,\"r\":0},\"height\":540,\"width\":960,\"autosize\":false,\"hovermode\":\"closest\"},                        {\"responsive\": true}                    ).then(function(){\n                            \nvar gd = document.getElementById('51db6540-6641-40b4-ae3a-9e2053e8af5b');\nvar x = new MutationObserver(function (mutations, observer) {{\n        var display = window.getComputedStyle(gd).display;\n        if (!display || display === 'none') {{\n            console.log([gd, 'removed!']);\n            Plotly.purge(gd);\n            observer.disconnect();\n        }}\n}});\n\n// Listen for the removal of the full notebook cells\nvar notebookContainer = gd.closest('#notebook-container');\nif (notebookContainer) {{\n    x.observe(notebookContainer, {childList: true});\n}}\n\n// Listen for the clearing of the current output cell\nvar outputEl = gd.closest('.output');\nif (outputEl) {{\n    x.observe(outputEl, {childList: true});\n}}\n\n                        })                };                });            </script>        </div>"
     },
     "metadata": {},
     "output_type": "display_data"
    }
   ],
   "source": [
    "## set mapbox access token\n",
    "import plotly.express as px\n",
    "import plotly.graph_objs as go\n",
    "\n",
    "px.set_mapbox_access_token('pk.eyJ1Ijoic2FnYXJsaW1idTAiLCJhIjoiY2t2MXhhMm5mNnE5ajJ3dDl2eDZvNTM2NiJ9.1bwmb8HPgFZWwR8kcO5rOA')\n",
    "\n",
    "# Plotly configs\n",
    "\n",
    "fig= px.scatter_mapbox(df,\n",
    "                              lat= 'lat',\n",
    "                              lon= 'lon',\n",
    "                              color= 'xco2',\n",
    "                              zoom= .85,\n",
    "                              width=960,\n",
    "                              height=540,\n",
    "                              size_max=10,\n",
    "                              hover_name='city',\n",
    "                              color_continuous_scale=px.colors.cyclical.IceFire)\n",
    "\n",
    "fig.update_layout(mapbox_style=\"dark\") #\"open-street-map\"\n",
    "\n",
    "\n",
    "layout = go.Layout(margin=go.layout.Margin(\n",
    "    l=0,\n",
    "    r=0,\n",
    "    b=0,\n",
    "    t=0))\n",
    "\n",
    "\n",
    "fig.update_layout(layout,\n",
    "                  autosize=False,\n",
    "                  height=540,\n",
    "                  width=960,\n",
    "                  hovermode=\"closest\")\n",
    "\n",
    "# Saving the output image\n",
    "\n",
    "#fig.write_html('xcodex_map.html')\n",
    "#fig.write_image(\"xcodex_map.png\", scale=2)\n",
    "\n",
    "fig.show()"
   ],
   "metadata": {
    "collapsed": false,
    "ExecuteTime": {
     "end_time": "2023-05-27T17:53:13.077187900Z",
     "start_time": "2023-05-27T17:53:12.681708900Z"
    }
   }
  },
  {
   "cell_type": "code",
   "execution_count": 20,
   "outputs": [
    {
     "data": {
      "text/plain": "<Figure size 1000x500 with 1 Axes>",
      "image/png": "[encoded data removed]"
     },
     "metadata": {},
     "output_type": "display_data"
    }
   ],
   "source": [
    "# Showing XCO2 behavior in time serie\n",
    "\n",
    "import matplotlib.pyplot as plt\n",
    "import seaborn as sns\n",
    "\n",
    "plt.figure(figsize=(10,5))\n",
    "\n",
    "sns.set_theme(font_scale=1, style=\"white\")\n",
    "\n",
    "sns.lineplot(data=df,\n",
    "             x=\"jd\",\n",
    "             y='xco2',\n",
    "             hue='city',\n",
    "             errorbar=('ci',0),\n",
    "             palette=\"tab10\")\n",
    "\n",
    "plt.xlabel(\"\")\n",
    "plt.ylabel(\"XCO2 (ppm)\")\n",
    "\n",
    "plt.xlim(min(df.jd), max(df.jd))\n",
    "plt.ylim(min(df.xco2), max(df.xco2))\n",
    "\n",
    "sns.despine(right=False,\n",
    "            top=False)\n",
    "\n",
    "plt.legend(ncol=3)\n",
    "\n",
    "plt.tight_layout()\n",
    "\n",
    "#plt.savefig(\"xcodex_locations.png\", dpi=300)\n",
    "\n",
    "plt.show()"
   ],
   "metadata": {
    "collapsed": false,
    "ExecuteTime": {
     "end_time": "2023-05-27T17:53:13.078188500Z",
     "start_time": "2023-05-27T17:53:13.024378100Z"
    }
   }
  }
 ],
 "metadata": {
  "kernelspec": {
   "display_name": "Python 3",
   "language": "python",
   "name": "python3"
  },
  "language_info": {
   "codemirror_mode": {
    "name": "ipython",
    "version": 2
   },
   "file_extension": ".py",
   "mimetype": "text/x-python",
   "name": "python",
   "nbconvert_exporter": "python",
   "pygments_lexer": "ipython2",
   "version": "2.7.6"
  }
 },
 "nbformat": 4,
 "nbformat_minor": 0
}
