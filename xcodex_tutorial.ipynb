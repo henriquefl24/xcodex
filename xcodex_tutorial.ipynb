{
 "cells": [
  {
   "cell_type": "code",
   "execution_count": null,
   "outputs": [],
   "source": [
    "# Setting historical serie\n",
    "\n",
    "from xcodex.main import download_file\n",
    "\n",
    "start_date = \"1st of January, 2022\"\n",
    "end_date = \"1st of January, 2022\"\n",
    "\n",
    "download_file(start_date, end_date) # Downloading .nc4 files (Global)"
   ],
   "metadata": {
    "collapsed": false
   }
  },
  {
   "cell_type": "code",
   "execution_count": null,
   "outputs": [],
   "source": [
    "from glob import glob\n",
    "from os.path import join\n",
    "from os import getcwd\n",
    "\n",
    "arquive_folder = glob(join(getcwd(), \"downloaded_data\", \"*.nc4\")) # Selecting the folder with .nc4 files\n",
    "\n",
    "# Setting desired locations\n",
    "\n",
    "locations = dict(Mauna_loa=[19.479488, -155.602829],\n",
    "                 New_York=[40.712776, -74.005974],\n",
    "                 Paris=[48.856613, 2.352222])"
   ],
   "metadata": {
    "collapsed": false
   }
  },
  {
   "cell_type": "code",
   "execution_count": null,
   "outputs": [],
   "source": [
    "from xcodex.main import xco2_extract\n",
    "\n",
    "df = xco2_extract(path=arquive_folder,\n",
    "                  start=start_date,\n",
    "                  end=end_date,\n",
    "                  missing_data=False,\n",
    "                  **locations) # Extracting XCO2\n",
    "\n",
    "df"
   ],
   "metadata": {
    "collapsed": false
   }
  },
  {
   "cell_type": "markdown",
   "source": [
    "# Data visualization"
   ],
   "metadata": {
    "collapsed": false
   }
  },
  {
   "cell_type": "code",
   "execution_count": null,
   "outputs": [],
   "source": [
    "## set mapbox access token\n",
    "import plotly.express as px\n",
    "import plotly.graph_objs as go\n",
    "\n",
    "px.set_mapbox_access_token('pk.eyJ1Ijoic2FnYXJsaW1idTAiLCJhIjoiY2t2MXhhMm5mNnE5ajJ3dDl2eDZvNTM2NiJ9.1bwmb8HPgFZWwR8kcO5rOA')\n",
    "\n",
    "# Plotly configs\n",
    "\n",
    "fig= px.scatter_mapbox(df,\n",
    "                              lat= 'lat',\n",
    "                              lon= 'lon',\n",
    "                              color= 'xco2',\n",
    "                              zoom= .85,\n",
    "                              width=960,\n",
    "                              height=540,\n",
    "                              size_max=10,\n",
    "                              hover_name='city',\n",
    "                              color_continuous_scale=px.colors.cyclical.IceFire)\n",
    "\n",
    "fig.update_layout(mapbox_style=\"dark\") #\"open-street-map\"\n",
    "\n",
    "\n",
    "layout = go.Layout(margin=go.layout.Margin(\n",
    "    l=0,\n",
    "    r=0,\n",
    "    b=0,\n",
    "    t=0))\n",
    "\n",
    "\n",
    "fig.update_layout(layout,\n",
    "                  autosize=False,\n",
    "                  height=540,\n",
    "                  width=960,\n",
    "                  hovermode=\"closest\")\n",
    "\n",
    "# Saving the output image\n",
    "\n",
    "#fig.write_html('xcodex_map.html')\n",
    "#fig.write_image(\"xcodex_map.png\", scale=2)\n",
    "\n",
    "fig.show()"
   ],
   "metadata": {
    "collapsed": false
   }
  },
  {
   "cell_type": "code",
   "execution_count": null,
   "outputs": [],
   "source": [
    "# Showing XCO2 behavior in time serie\n",
    "\n",
    "import matplotlib.pyplot as plt\n",
    "import seaborn as sns\n",
    "\n",
    "plt.figure(figsize=(10,5))\n",
    "\n",
    "sns.set_theme(font_scale=1, style=\"white\")\n",
    "\n",
    "sns.lineplot(data=df,\n",
    "             x=\"jd\",\n",
    "             y='xco2',\n",
    "             hue='city',\n",
    "             errorbar=('ci',0),\n",
    "             palette=\"tab10\")\n",
    "\n",
    "plt.xlabel(\"\")\n",
    "plt.ylabel(\"XCO2 (ppm)\")\n",
    "\n",
    "plt.xlim(min(df.jd), max(df.jd))\n",
    "plt.ylim(min(df.xco2), max(df.xco2))\n",
    "\n",
    "sns.despine(right=False,\n",
    "            top=False)\n",
    "\n",
    "plt.legend(ncol=3)\n",
    "\n",
    "plt.tight_layout()\n",
    "\n",
    "#plt.savefig(\"xcodex_locations.png\", dpi=300)\n",
    "\n",
    "plt.show()"
   ],
   "metadata": {
    "collapsed": false
   }
  }
 ],
 "metadata": {
  "kernelspec": {
   "display_name": "Python 3",
   "language": "python",
   "name": "python3"
  },
  "language_info": {
   "codemirror_mode": {
    "name": "ipython",
    "version": 2
   },
   "file_extension": ".py",
   "mimetype": "text/x-python",
   "name": "python",
   "nbconvert_exporter": "python",
   "pygments_lexer": "ipython2",
   "version": "2.7.6"
  }
 },
 "nbformat": 4,
 "nbformat_minor": 0
}
