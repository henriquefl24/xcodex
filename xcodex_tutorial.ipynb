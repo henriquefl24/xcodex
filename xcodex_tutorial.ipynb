{
 "cells": [
  {
   "cell_type": "code",
   "execution_count": 1,
   "outputs": [],
   "source": [
    "# Importing packages\n",
    "\n",
    "from glob import glob\n",
    "from os.path import join\n",
    "from os import getcwd\n",
    "from xcodex.main import download_file, xco2_extract"
   ],
   "metadata": {
    "collapsed": false,
    "ExecuteTime": {
     "end_time": "2023-05-29T19:25:48.107864200Z",
     "start_time": "2023-05-29T19:25:48.070496100Z"
    }
   }
  },
  {
   "cell_type": "code",
   "execution_count": 2,
   "outputs": [
    {
     "name": "stdout",
     "output_type": "stream",
     "text": [
      "Downloading: oco2_GEOS_L3CO2_day_20150105_B10206Ar.nc4 - 100.00% | Speed: 36.86 KB/swnloading: oco2_GEOS_L3CO2_day_20150106_B10206Ar.nc4 - 34.12% | Speed: 12.60 KB/s\r\n",
      "File download completed: oco2_GEOS_L3CO2_day_20150105_B10206Ar.nc4\n",
      "Downloading: oco2_GEOS_L3CO2_day_20150104_B10206Ar.nc4 - 96.03% | Speed: 35.33 KB/ssownloading: oco2_GEOS_L3CO2_day_20150102_B10206Ar.nc4 - 39.00% | Speed: 14.37 KB/s\r\n",
      "File download completed: oco2_GEOS_L3CO2_day_20150106_B10206Ar.nc4\n",
      "Downloading: oco2_GEOS_L3CO2_day_20150101_B10206Ar.nc4 - 79.70% | Speed: 29.32 KB/ss\r\n",
      "File download completed: oco2_GEOS_L3CO2_day_20150107_B10206Ar.nc4\n",
      "Downloading: oco2_GEOS_L3CO2_day_20150101_B10206Ar.nc4 - 81.65% | Speed: 30.04 KB/ss\r\n",
      "File download completed: oco2_GEOS_L3CO2_day_20150104_B10206Ar.nc4\n",
      "Downloading: oco2_GEOS_L3CO2_day_20150111_B10206Ar.nc4 - 100.00% | Speed: 36.78 KB/s\r\n",
      "File download completed: oco2_GEOS_L3CO2_day_20150111_B10206Ar.nc4\n",
      "Downloading: oco2_GEOS_L3CO2_day_20150102_B10206Ar.nc4 - 100.00% | Speed: 36.73 KB/s\r\n",
      "File download completed: oco2_GEOS_L3CO2_day_20150102_B10206Ar.nc4\n",
      "Downloading: oco2_GEOS_L3CO2_day_20150101_B10206Ar.nc4 - 100.00% | Speed: 36.71 KB/s\r\n",
      "File download completed: oco2_GEOS_L3CO2_day_20150101_B10206Ar.nc4\n",
      "Downloading: oco2_GEOS_L3CO2_day_20150108_B10206Ar.nc4 - 85.55% | Speed: 31.39 KB/ss\r\n",
      "File download completed: oco2_GEOS_L3CO2_day_20150112_B10206Ar.nc4\n",
      "Downloading: oco2_GEOS_L3CO2_day_20150109_B10206Ar.nc4 - 85.80% | Speed: 31.48 KB/ss\r\n",
      "File download completed: oco2_GEOS_L3CO2_day_20150110_B10206Ar.nc4\n",
      "Downloading: oco2_GEOS_L3CO2_day_20150109_B10206Ar.nc4 - 99.69% | Speed: 36.52 KB/ss\r\n",
      "File download completed: oco2_GEOS_L3CO2_day_20150108_B10206Ar.nc4\n",
      "Downloading: oco2_GEOS_L3CO2_day_20150103_B10206Ar.nc4 - 72.64% | Speed: 26.61 KB/ss\r\n",
      "File download completed: oco2_GEOS_L3CO2_day_20150109_B10206Ar.nc4\n",
      "Downloading: oco2_GEOS_L3CO2_day_20150103_B10206Ar.nc4 - 100.00% | Speed: 36.54 KB/s\r\n",
      "File download completed: oco2_GEOS_L3CO2_day_20150103_B10206Ar.nc4\n",
      "Downloading: oco2_GEOS_L3CO2_day_20150113_B10206Ar.nc4 - 100.00% | Speed: 37.21 KB/s\r\n",
      "File download completed: oco2_GEOS_L3CO2_day_20150114_B10206Ar.nc4\n",
      "Downloading: oco2_GEOS_L3CO2_day_20150116_B10206Ar.nc4 - 0.24% | Speed: 0.09 KB/s\r\n",
      "File download completed: oco2_GEOS_L3CO2_day_20150113_B10206Ar.nc4\n",
      "Downloading: oco2_GEOS_L3CO2_day_20150115_B10206Ar.nc4 - 100.00% | Speed: 36.70 KB/s\r\n",
      "File download completed: oco2_GEOS_L3CO2_day_20150115_B10206Ar.nc4\n",
      "Downloading: oco2_GEOS_L3CO2_day_20150120_B10206Ar.nc4 - 100.00% | Speed: 36.79 KB/s\r\n",
      "File download completed: oco2_GEOS_L3CO2_day_20150120_B10206Ar.nc4\n",
      "Downloading: oco2_GEOS_L3CO2_day_20150118_B10206Ar.nc4 - 98.23% | Speed: 36.09 KB/ssownloading: oco2_GEOS_L3CO2_day_20150119_B10206Ar.nc4 - 88.72% | Speed: 32.62 KB/s\r\n",
      "File download completed: oco2_GEOS_L3CO2_day_20150119_B10206Ar.nc4\n",
      "Downloading: oco2_GEOS_L3CO2_day_20150124_B10206Ar.nc4 - 88.72% | Speed: 32.76 KB/ss\r\n",
      "File download completed: oco2_GEOS_L3CO2_day_20150118_B10206Ar.nc4\n",
      "Downloading: oco2_GEOS_L3CO2_day_20150123_B10206Ar.nc4 - 33.64% | Speed: 12.37 KB/ss\r\n",
      "File download completed: oco2_GEOS_L3CO2_day_20150124_B10206Ar.nc4\n",
      "Downloading: oco2_GEOS_L3CO2_day_20150122_B10206Ar.nc4 - 100.00% | Speed: 36.76 KB/s\r\n",
      "File download completed: oco2_GEOS_L3CO2_day_20150122_B10206Ar.nc4\n",
      "Downloading: oco2_GEOS_L3CO2_day_20150116_B10206Ar.nc4 - 100.00% | Speed: 36.61 KB/s\r\n",
      "File download completed: oco2_GEOS_L3CO2_day_20150116_B10206Ar.nc4\n",
      "Downloading: oco2_GEOS_L3CO2_day_20150121_B10206Ar.nc4 - 73.12% | Speed: 26.74 KB/ss\r\n",
      "File download completed: oco2_GEOS_L3CO2_day_20150117_B10206Ar.nc4\n",
      "Downloading: oco2_GEOS_L3CO2_day_20150121_B10206Ar.nc4 - 100.00% | Speed: 36.43 KB/s\r\n",
      "File download completed: oco2_GEOS_L3CO2_day_20150121_B10206Ar.nc4\n",
      "Downloading: oco2_GEOS_L3CO2_day_20150123_B10206Ar.nc4 - 100.00% | Speed: 36.21 KB/s\r\n",
      "File download completed: oco2_GEOS_L3CO2_day_20150123_B10206Ar.nc4\n",
      "Downloading: oco2_GEOS_L3CO2_day_20150125_B10206Ar.nc4 - 100.00% | Speed: 37.20 KB/sownloading: oco2_GEOS_L3CO2_day_20150128_B10206Ar.nc4 - 1.22% | Speed: 0.46 KB/sDownloading: oco2_GEOS_L3CO2_day_20150125_B10206Ar.nc4 - 87.99% | Speed: 32.73 KB/sDownloading: oco2_GEOS_L3CO2_day_20150126_B10206Ar.nc4 - 67.03% | Speed: 24.94 KB/s\r\n",
      "File download completed: oco2_GEOS_L3CO2_day_20150125_B10206Ar.nc4\n",
      "Downloading: oco2_GEOS_L3CO2_day_20150127_B10206Ar.nc4 - 8.53% | Speed: 3.21 KB/sB/s\r\n",
      "File download completed: oco2_GEOS_L3CO2_day_20150126_B10206Ar.nc4\n",
      "Downloading: oco2_GEOS_L3CO2_day_20150127_B10206Ar.nc4 - 100.00% | Speed: 37.39 KB/s\r\n",
      "File download completed: oco2_GEOS_L3CO2_day_20150127_B10206Ar.nc4\n",
      "Downloading: oco2_GEOS_L3CO2_day_20150131_B10206Ar.nc4 - 37.78% | Speed: 14.12 KB/ss\r\n",
      "File download completed: oco2_GEOS_L3CO2_day_20150130_B10206Ar.nc4\n",
      "Downloading: oco2_GEOS_L3CO2_day_20150129_B10206Ar.nc4 - 100.00% | Speed: 37.29 KB/s\r\n",
      "File download completed: oco2_GEOS_L3CO2_day_20150129_B10206Ar.nc4\n",
      "Downloading: oco2_GEOS_L3CO2_day_20150131_B10206Ar.nc4 - 100.00% | Speed: 37.31 KB/s\r\n",
      "File download completed: oco2_GEOS_L3CO2_day_20150131_B10206Ar.nc4\n",
      "Downloading: oco2_GEOS_L3CO2_day_20150128_B10206Ar.nc4 - 100.00% | Speed: 36.74 KB/s\r\n",
      "File download completed: oco2_GEOS_L3CO2_day_20150128_B10206Ar.nc4\n"
     ]
    }
   ],
   "source": [
    "# Setting historical serie\n",
    "\n",
    "start_date = \"1st of January, 2015\"\n",
    "end_date = \"31st of January, 2015\"\n",
    "\n",
    "download_file(start_date, end_date) # Downloading .nc4 files (Global)"
   ],
   "metadata": {
    "collapsed": false,
    "ExecuteTime": {
     "end_time": "2023-05-29T19:30:16.917142900Z",
     "start_time": "2023-05-29T19:25:48.798065800Z"
    }
   }
  },
  {
   "cell_type": "code",
   "execution_count": 3,
   "outputs": [],
   "source": [
    "arquive_folder = glob(join(getcwd(), \"downloaded_data\", \"*.nc4\")) # Selecting the folder with nc4 files (Default location)\n",
    "\n",
    "# Setting desired locations to build a time series XCO2 data\n",
    "\n",
    "locations = dict(Mauna_loa=[19.479488, -155.602829],\n",
    "                 New_York=[40.712776, -74.005974],\n",
    "                 Paris=[48.856613, 2.352222])"
   ],
   "metadata": {
    "collapsed": false,
    "ExecuteTime": {
     "end_time": "2023-05-29T19:30:32.939414300Z",
     "start_time": "2023-05-29T19:30:32.931074300Z"
    }
   }
  },
  {
   "cell_type": "code",
   "execution_count": 4,
   "outputs": [
    {
     "data": {
      "text/plain": "     location    jd   day  month    year        lat         lon  lat_index   \n0   Mauna_loa   1.0   1.0    1.0  2015.0  19.479488 -155.602829      219.0  \\\n1   Mauna_loa   2.0   2.0    1.0  2015.0  19.479488 -155.602829      219.0   \n2   Mauna_loa   3.0   3.0    1.0  2015.0  19.479488 -155.602829      219.0   \n3   Mauna_loa   4.0   4.0    1.0  2015.0  19.479488 -155.602829      219.0   \n4   Mauna_loa   5.0   5.0    1.0  2015.0  19.479488 -155.602829      219.0   \n..        ...   ...   ...    ...     ...        ...         ...        ...   \n88      Paris  27.0  27.0    1.0  2015.0  48.856613    2.352222      278.0   \n89      Paris  28.0  28.0    1.0  2015.0  48.856613    2.352222      278.0   \n90      Paris  29.0  29.0    1.0  2015.0  48.856613    2.352222      278.0   \n91      Paris  30.0  30.0    1.0  2015.0  48.856613    2.352222      278.0   \n92      Paris  31.0  31.0    1.0  2015.0  48.856613    2.352222      278.0   \n\n    lon_index        XCO2     XCO2_prec  \n0        39.0  398.649339  1.122895e-07  \n1        39.0  398.136021  1.122895e-07  \n2        39.0  398.241798  1.122895e-07  \n3        39.0  398.501808  1.122895e-07  \n4        39.0  398.525179  1.122895e-07  \n..        ...         ...           ...  \n88      292.0  400.524325  3.741323e-07  \n89      292.0  400.489120  3.741323e-07  \n90      292.0  400.542653  3.741323e-07  \n91      292.0  400.616223  3.741323e-07  \n92      292.0  401.061941  3.741323e-07  \n\n[93 rows x 11 columns]",
      "text/html": "<div>\n<style scoped>\n    .dataframe tbody tr th:only-of-type {\n        vertical-align: middle;\n    }\n\n    .dataframe tbody tr th {\n        vertical-align: top;\n    }\n\n    .dataframe thead th {\n        text-align: right;\n    }\n</style>\n<table border=\"1\" class=\"dataframe\">\n  <thead>\n    <tr style=\"text-align: right;\">\n      <th></th>\n      <th>location</th>\n      <th>jd</th>\n      <th>day</th>\n      <th>month</th>\n      <th>year</th>\n      <th>lat</th>\n      <th>lon</th>\n      <th>lat_index</th>\n      <th>lon_index</th>\n      <th>XCO2</th>\n      <th>XCO2_prec</th>\n    </tr>\n  </thead>\n  <tbody>\n    <tr>\n      <th>0</th>\n      <td>Mauna_loa</td>\n      <td>1.0</td>\n      <td>1.0</td>\n      <td>1.0</td>\n      <td>2015.0</td>\n      <td>19.479488</td>\n      <td>-155.602829</td>\n      <td>219.0</td>\n      <td>39.0</td>\n      <td>398.649339</td>\n      <td>1.122895e-07</td>\n    </tr>\n    <tr>\n      <th>1</th>\n      <td>Mauna_loa</td>\n      <td>2.0</td>\n      <td>2.0</td>\n      <td>1.0</td>\n      <td>2015.0</td>\n      <td>19.479488</td>\n      <td>-155.602829</td>\n      <td>219.0</td>\n      <td>39.0</td>\n      <td>398.136021</td>\n      <td>1.122895e-07</td>\n    </tr>\n    <tr>\n      <th>2</th>\n      <td>Mauna_loa</td>\n      <td>3.0</td>\n      <td>3.0</td>\n      <td>1.0</td>\n      <td>2015.0</td>\n      <td>19.479488</td>\n      <td>-155.602829</td>\n      <td>219.0</td>\n      <td>39.0</td>\n      <td>398.241798</td>\n      <td>1.122895e-07</td>\n    </tr>\n    <tr>\n      <th>3</th>\n      <td>Mauna_loa</td>\n      <td>4.0</td>\n      <td>4.0</td>\n      <td>1.0</td>\n      <td>2015.0</td>\n      <td>19.479488</td>\n      <td>-155.602829</td>\n      <td>219.0</td>\n      <td>39.0</td>\n      <td>398.501808</td>\n      <td>1.122895e-07</td>\n    </tr>\n    <tr>\n      <th>4</th>\n      <td>Mauna_loa</td>\n      <td>5.0</td>\n      <td>5.0</td>\n      <td>1.0</td>\n      <td>2015.0</td>\n      <td>19.479488</td>\n      <td>-155.602829</td>\n      <td>219.0</td>\n      <td>39.0</td>\n      <td>398.525179</td>\n      <td>1.122895e-07</td>\n    </tr>\n    <tr>\n      <th>...</th>\n      <td>...</td>\n      <td>...</td>\n      <td>...</td>\n      <td>...</td>\n      <td>...</td>\n      <td>...</td>\n      <td>...</td>\n      <td>...</td>\n      <td>...</td>\n      <td>...</td>\n      <td>...</td>\n    </tr>\n    <tr>\n      <th>88</th>\n      <td>Paris</td>\n      <td>27.0</td>\n      <td>27.0</td>\n      <td>1.0</td>\n      <td>2015.0</td>\n      <td>48.856613</td>\n      <td>2.352222</td>\n      <td>278.0</td>\n      <td>292.0</td>\n      <td>400.524325</td>\n      <td>3.741323e-07</td>\n    </tr>\n    <tr>\n      <th>89</th>\n      <td>Paris</td>\n      <td>28.0</td>\n      <td>28.0</td>\n      <td>1.0</td>\n      <td>2015.0</td>\n      <td>48.856613</td>\n      <td>2.352222</td>\n      <td>278.0</td>\n      <td>292.0</td>\n      <td>400.489120</td>\n      <td>3.741323e-07</td>\n    </tr>\n    <tr>\n      <th>90</th>\n      <td>Paris</td>\n      <td>29.0</td>\n      <td>29.0</td>\n      <td>1.0</td>\n      <td>2015.0</td>\n      <td>48.856613</td>\n      <td>2.352222</td>\n      <td>278.0</td>\n      <td>292.0</td>\n      <td>400.542653</td>\n      <td>3.741323e-07</td>\n    </tr>\n    <tr>\n      <th>91</th>\n      <td>Paris</td>\n      <td>30.0</td>\n      <td>30.0</td>\n      <td>1.0</td>\n      <td>2015.0</td>\n      <td>48.856613</td>\n      <td>2.352222</td>\n      <td>278.0</td>\n      <td>292.0</td>\n      <td>400.616223</td>\n      <td>3.741323e-07</td>\n    </tr>\n    <tr>\n      <th>92</th>\n      <td>Paris</td>\n      <td>31.0</td>\n      <td>31.0</td>\n      <td>1.0</td>\n      <td>2015.0</td>\n      <td>48.856613</td>\n      <td>2.352222</td>\n      <td>278.0</td>\n      <td>292.0</td>\n      <td>401.061941</td>\n      <td>3.741323e-07</td>\n    </tr>\n  </tbody>\n</table>\n<p>93 rows × 11 columns</p>\n</div>"
     },
     "execution_count": 4,
     "metadata": {},
     "output_type": "execute_result"
    }
   ],
   "source": [
    "df = xco2_extract(path=arquive_folder,\n",
    "                  start=start_date,\n",
    "                  end=end_date,\n",
    "                  missing_data=False,\n",
    "                  **locations); df # Extracting XCO2"
   ],
   "metadata": {
    "collapsed": false,
    "ExecuteTime": {
     "end_time": "2023-05-29T19:30:35.381172300Z",
     "start_time": "2023-05-29T19:30:34.797974500Z"
    }
   }
  },
  {
   "cell_type": "markdown",
   "source": [
    "# Data visualization"
   ],
   "metadata": {
    "collapsed": false
   }
  },
  {
   "cell_type": "code",
   "execution_count": 6,
   "outputs": [
    {
     "data": {
      "application/vnd.plotly.v1+json": {
       "data": [
        {
         "hovertemplate": "<b>%{hovertext}</b><br><br>lat=%{lat}<br>lon=%{lon}<br>XCO2=%{marker.color}<extra></extra>",
         "hovertext": [
          "Mauna_loa",
          "Mauna_loa",
          "Mauna_loa",
          "Mauna_loa",
          "Mauna_loa",
          "Mauna_loa",
          "Mauna_loa",
          "Mauna_loa",
          "Mauna_loa",
          "Mauna_loa",
          "Mauna_loa",
          "Mauna_loa",
          "Mauna_loa",
          "Mauna_loa",
          "Mauna_loa",
          "Mauna_loa",
          "Mauna_loa",
          "Mauna_loa",
          "Mauna_loa",
          "Mauna_loa",
          "Mauna_loa",
          "Mauna_loa",
          "Mauna_loa",
          "Mauna_loa",
          "Mauna_loa",
          "Mauna_loa",
          "Mauna_loa",
          "Mauna_loa",
          "Mauna_loa",
          "Mauna_loa",
          "Mauna_loa",
          "New_York",
          "New_York",
          "New_York",
          "New_York",
          "New_York",
          "New_York",
          "New_York",
          "New_York",
          "New_York",
          "New_York",
          "New_York",
          "New_York",
          "New_York",
          "New_York",
          "New_York",
          "New_York",
          "New_York",
          "New_York",
          "New_York",
          "New_York",
          "New_York",
          "New_York",
          "New_York",
          "New_York",
          "New_York",
          "New_York",
          "New_York",
          "New_York",
          "New_York",
          "New_York",
          "New_York",
          "Paris",
          "Paris",
          "Paris",
          "Paris",
          "Paris",
          "Paris",
          "Paris",
          "Paris",
          "Paris",
          "Paris",
          "Paris",
          "Paris",
          "Paris",
          "Paris",
          "Paris",
          "Paris",
          "Paris",
          "Paris",
          "Paris",
          "Paris",
          "Paris",
          "Paris",
          "Paris",
          "Paris",
          "Paris",
          "Paris",
          "Paris",
          "Paris",
          "Paris",
          "Paris",
          "Paris"
         ],
         "lat": [
          19.479488,
          19.479488,
          19.479488,
          19.479488,
          19.479488,
          19.479488,
          19.479488,
          19.479488,
          19.479488,
          19.479488,
          19.479488,
          19.479488,
          19.479488,
          19.479488,
          19.479488,
          19.479488,
          19.479488,
          19.479488,
          19.479488,
          19.479488,
          19.479488,
          19.479488,
          19.479488,
          19.479488,
          19.479488,
          19.479488,
          19.479488,
          19.479488,
          19.479488,
          19.479488,
          19.479488,
          40.712776,
          40.712776,
          40.712776,
          40.712776,
          40.712776,
          40.712776,
          40.712776,
          40.712776,
          40.712776,
          40.712776,
          40.712776,
          40.712776,
          40.712776,
          40.712776,
          40.712776,
          40.712776,
          40.712776,
          40.712776,
          40.712776,
          40.712776,
          40.712776,
          40.712776,
          40.712776,
          40.712776,
          40.712776,
          40.712776,
          40.712776,
          40.712776,
          40.712776,
          40.712776,
          40.712776,
          48.856613,
          48.856613,
          48.856613,
          48.856613,
          48.856613,
          48.856613,
          48.856613,
          48.856613,
          48.856613,
          48.856613,
          48.856613,
          48.856613,
          48.856613,
          48.856613,
          48.856613,
          48.856613,
          48.856613,
          48.856613,
          48.856613,
          48.856613,
          48.856613,
          48.856613,
          48.856613,
          48.856613,
          48.856613,
          48.856613,
          48.856613,
          48.856613,
          48.856613,
          48.856613,
          48.856613
         ],
         "legendgroup": "",
         "lon": [
          -155.602829,
          -155.602829,
          -155.602829,
          -155.602829,
          -155.602829,
          -155.602829,
          -155.602829,
          -155.602829,
          -155.602829,
          -155.602829,
          -155.602829,
          -155.602829,
          -155.602829,
          -155.602829,
          -155.602829,
          -155.602829,
          -155.602829,
          -155.602829,
          -155.602829,
          -155.602829,
          -155.602829,
          -155.602829,
          -155.602829,
          -155.602829,
          -155.602829,
          -155.602829,
          -155.602829,
          -155.602829,
          -155.602829,
          -155.602829,
          -155.602829,
          -74.005974,
          -74.005974,
          -74.005974,
          -74.005974,
          -74.005974,
          -74.005974,
          -74.005974,
          -74.005974,
          -74.005974,
          -74.005974,
          -74.005974,
          -74.005974,
          -74.005974,
          -74.005974,
          -74.005974,
          -74.005974,
          -74.005974,
          -74.005974,
          -74.005974,
          -74.005974,
          -74.005974,
          -74.005974,
          -74.005974,
          -74.005974,
          -74.005974,
          -74.005974,
          -74.005974,
          -74.005974,
          -74.005974,
          -74.005974,
          -74.005974,
          2.352222,
          2.352222,
          2.352222,
          2.352222,
          2.352222,
          2.352222,
          2.352222,
          2.352222,
          2.352222,
          2.352222,
          2.352222,
          2.352222,
          2.352222,
          2.352222,
          2.352222,
          2.352222,
          2.352222,
          2.352222,
          2.352222,
          2.352222,
          2.352222,
          2.352222,
          2.352222,
          2.352222,
          2.352222,
          2.352222,
          2.352222,
          2.352222,
          2.352222,
          2.352222,
          2.352222
         ],
         "marker": {
          "color": [
           398.64933933131397,
           398.1360205216334,
           398.2417983934283,
           398.50180837675,
           398.5251787526068,
           398.5745861427858,
           398.7341624451801,
           398.7014388258103,
           398.6938427260611,
           398.491454689065,
           398.811975173885,
           398.75248330645263,
           398.7519085058011,
           398.96783709991723,
           399.12801003083587,
           399.07695463625714,
           398.9203796663787,
           398.5394214396365,
           398.36398354964336,
           398.5416406067088,
           398.7874079030007,
           398.64352584118024,
           398.5697003372479,
           398.7303534813691,
           399.0547629655339,
           399.1960402345285,
           399.11799467517994,
           399.0107106801588,
           398.9668402937241,
           398.94029396236874,
           399.1765552200377,
           400.52476106211543,
           400.8007927041035,
           400.5875962320715,
           399.78453423827887,
           401.6964230686426,
           400.55174395092763,
           401.09486508299597,
           400.1990455435589,
           400.6310446129646,
           400.8552568848244,
           400.3833055321593,
           400.8182222605683,
           401.07351378537714,
           400.21871609496884,
           400.71073090075515,
           401.4702899439726,
           400.39918894763105,
           400.3883987024892,
           401.51258144760504,
           401.16544914781116,
           401.0390039184131,
           402.8361217933707,
           400.98579847835936,
           402.06250196206383,
           401.15575029631145,
           401.18960896506906,
           401.64042002288625,
           401.51862413040357,
           400.4848415206652,
           402.0220549136866,
           400.5798982689157,
           399.9163818662055,
           399.78187487577094,
           399.5347069576382,
           399.9415748694446,
           399.7343264927622,
           399.78011409402825,
           400.40842577582225,
           400.1292509201448,
           399.8350402980578,
           399.0391815023031,
           400.09446456679143,
           399.6214472863358,
           399.7872081527021,
           400.3640897281002,
           400.50486131804064,
           400.238797737984,
           400.4948859801516,
           400.34662015386857,
           401.2987956230063,
           401.01359991240315,
           401.18535252986476,
           402.5440830446314,
           402.36828135675756,
           400.8682371932082,
           400.5264963780064,
           400.05995469982736,
           400.5243245046586,
           400.48911978374235,
           400.5426526418887,
           400.6162234873045,
           401.0619413747918
          ],
          "coloraxis": "coloraxis"
         },
         "mode": "markers",
         "name": "",
         "showlegend": false,
         "subplot": "mapbox",
         "type": "scattermapbox"
        }
       ],
       "layout": {
        "template": {
         "data": {
          "histogram2dcontour": [
           {
            "type": "histogram2dcontour",
            "colorbar": {
             "outlinewidth": 0,
             "ticks": ""
            },
            "colorscale": [
             [
              0.0,
              "#0d0887"
             ],
             [
              0.1111111111111111,
              "#46039f"
             ],
             [
              0.2222222222222222,
              "#7201a8"
             ],
             [
              0.3333333333333333,
              "#9c179e"
             ],
             [
              0.4444444444444444,
              "#bd3786"
             ],
             [
              0.5555555555555556,
              "#d8576b"
             ],
             [
              0.6666666666666666,
              "#ed7953"
             ],
             [
              0.7777777777777778,
              "#fb9f3a"
             ],
             [
              0.8888888888888888,
              "#fdca26"
             ],
             [
              1.0,
              "#f0f921"
             ]
            ]
           }
          ],
          "choropleth": [
           {
            "type": "choropleth",
            "colorbar": {
             "outlinewidth": 0,
             "ticks": ""
            }
           }
          ],
          "histogram2d": [
           {
            "type": "histogram2d",
            "colorbar": {
             "outlinewidth": 0,
             "ticks": ""
            },
            "colorscale": [
             [
              0.0,
              "#0d0887"
             ],
             [
              0.1111111111111111,
              "#46039f"
             ],
             [
              0.2222222222222222,
              "#7201a8"
             ],
             [
              0.3333333333333333,
              "#9c179e"
             ],
             [
              0.4444444444444444,
              "#bd3786"
             ],
             [
              0.5555555555555556,
              "#d8576b"
             ],
             [
              0.6666666666666666,
              "#ed7953"
             ],
             [
              0.7777777777777778,
              "#fb9f3a"
             ],
             [
              0.8888888888888888,
              "#fdca26"
             ],
             [
              1.0,
              "#f0f921"
             ]
            ]
           }
          ],
          "heatmap": [
           {
            "type": "heatmap",
            "colorbar": {
             "outlinewidth": 0,
             "ticks": ""
            },
            "colorscale": [
             [
              0.0,
              "#0d0887"
             ],
             [
              0.1111111111111111,
              "#46039f"
             ],
             [
              0.2222222222222222,
              "#7201a8"
             ],
             [
              0.3333333333333333,
              "#9c179e"
             ],
             [
              0.4444444444444444,
              "#bd3786"
             ],
             [
              0.5555555555555556,
              "#d8576b"
             ],
             [
              0.6666666666666666,
              "#ed7953"
             ],
             [
              0.7777777777777778,
              "#fb9f3a"
             ],
             [
              0.8888888888888888,
              "#fdca26"
             ],
             [
              1.0,
              "#f0f921"
             ]
            ]
           }
          ],
          "heatmapgl": [
           {
            "type": "heatmapgl",
            "colorbar": {
             "outlinewidth": 0,
             "ticks": ""
            },
            "colorscale": [
             [
              0.0,
              "#0d0887"
             ],
             [
              0.1111111111111111,
              "#46039f"
             ],
             [
              0.2222222222222222,
              "#7201a8"
             ],
             [
              0.3333333333333333,
              "#9c179e"
             ],
             [
              0.4444444444444444,
              "#bd3786"
             ],
             [
              0.5555555555555556,
              "#d8576b"
             ],
             [
              0.6666666666666666,
              "#ed7953"
             ],
             [
              0.7777777777777778,
              "#fb9f3a"
             ],
             [
              0.8888888888888888,
              "#fdca26"
             ],
             [
              1.0,
              "#f0f921"
             ]
            ]
           }
          ],
          "contourcarpet": [
           {
            "type": "contourcarpet",
            "colorbar": {
             "outlinewidth": 0,
             "ticks": ""
            }
           }
          ],
          "contour": [
           {
            "type": "contour",
            "colorbar": {
             "outlinewidth": 0,
             "ticks": ""
            },
            "colorscale": [
             [
              0.0,
              "#0d0887"
             ],
             [
              0.1111111111111111,
              "#46039f"
             ],
             [
              0.2222222222222222,
              "#7201a8"
             ],
             [
              0.3333333333333333,
              "#9c179e"
             ],
             [
              0.4444444444444444,
              "#bd3786"
             ],
             [
              0.5555555555555556,
              "#d8576b"
             ],
             [
              0.6666666666666666,
              "#ed7953"
             ],
             [
              0.7777777777777778,
              "#fb9f3a"
             ],
             [
              0.8888888888888888,
              "#fdca26"
             ],
             [
              1.0,
              "#f0f921"
             ]
            ]
           }
          ],
          "surface": [
           {
            "type": "surface",
            "colorbar": {
             "outlinewidth": 0,
             "ticks": ""
            },
            "colorscale": [
             [
              0.0,
              "#0d0887"
             ],
             [
              0.1111111111111111,
              "#46039f"
             ],
             [
              0.2222222222222222,
              "#7201a8"
             ],
             [
              0.3333333333333333,
              "#9c179e"
             ],
             [
              0.4444444444444444,
              "#bd3786"
             ],
             [
              0.5555555555555556,
              "#d8576b"
             ],
             [
              0.6666666666666666,
              "#ed7953"
             ],
             [
              0.7777777777777778,
              "#fb9f3a"
             ],
             [
              0.8888888888888888,
              "#fdca26"
             ],
             [
              1.0,
              "#f0f921"
             ]
            ]
           }
          ],
          "mesh3d": [
           {
            "type": "mesh3d",
            "colorbar": {
             "outlinewidth": 0,
             "ticks": ""
            }
           }
          ],
          "scatter": [
           {
            "marker": {
             "line": {
              "color": "#283442"
             }
            },
            "type": "scatter"
           }
          ],
          "parcoords": [
           {
            "type": "parcoords",
            "line": {
             "colorbar": {
              "outlinewidth": 0,
              "ticks": ""
             }
            }
           }
          ],
          "scatterpolargl": [
           {
            "type": "scatterpolargl",
            "marker": {
             "colorbar": {
              "outlinewidth": 0,
              "ticks": ""
             }
            }
           }
          ],
          "bar": [
           {
            "error_x": {
             "color": "#f2f5fa"
            },
            "error_y": {
             "color": "#f2f5fa"
            },
            "marker": {
             "line": {
              "color": "rgb(17,17,17)",
              "width": 0.5
             },
             "pattern": {
              "fillmode": "overlay",
              "size": 10,
              "solidity": 0.2
             }
            },
            "type": "bar"
           }
          ],
          "scattergeo": [
           {
            "type": "scattergeo",
            "marker": {
             "colorbar": {
              "outlinewidth": 0,
              "ticks": ""
             }
            }
           }
          ],
          "scatterpolar": [
           {
            "type": "scatterpolar",
            "marker": {
             "colorbar": {
              "outlinewidth": 0,
              "ticks": ""
             }
            }
           }
          ],
          "histogram": [
           {
            "marker": {
             "pattern": {
              "fillmode": "overlay",
              "size": 10,
              "solidity": 0.2
             }
            },
            "type": "histogram"
           }
          ],
          "scattergl": [
           {
            "marker": {
             "line": {
              "color": "#283442"
             }
            },
            "type": "scattergl"
           }
          ],
          "scatter3d": [
           {
            "type": "scatter3d",
            "line": {
             "colorbar": {
              "outlinewidth": 0,
              "ticks": ""
             }
            },
            "marker": {
             "colorbar": {
              "outlinewidth": 0,
              "ticks": ""
             }
            }
           }
          ],
          "scattermapbox": [
           {
            "type": "scattermapbox",
            "marker": {
             "colorbar": {
              "outlinewidth": 0,
              "ticks": ""
             }
            }
           }
          ],
          "scatterternary": [
           {
            "type": "scatterternary",
            "marker": {
             "colorbar": {
              "outlinewidth": 0,
              "ticks": ""
             }
            }
           }
          ],
          "scattercarpet": [
           {
            "type": "scattercarpet",
            "marker": {
             "colorbar": {
              "outlinewidth": 0,
              "ticks": ""
             }
            }
           }
          ],
          "carpet": [
           {
            "aaxis": {
             "endlinecolor": "#A2B1C6",
             "gridcolor": "#506784",
             "linecolor": "#506784",
             "minorgridcolor": "#506784",
             "startlinecolor": "#A2B1C6"
            },
            "baxis": {
             "endlinecolor": "#A2B1C6",
             "gridcolor": "#506784",
             "linecolor": "#506784",
             "minorgridcolor": "#506784",
             "startlinecolor": "#A2B1C6"
            },
            "type": "carpet"
           }
          ],
          "table": [
           {
            "cells": {
             "fill": {
              "color": "#506784"
             },
             "line": {
              "color": "rgb(17,17,17)"
             }
            },
            "header": {
             "fill": {
              "color": "#2a3f5f"
             },
             "line": {
              "color": "rgb(17,17,17)"
             }
            },
            "type": "table"
           }
          ],
          "barpolar": [
           {
            "marker": {
             "line": {
              "color": "rgb(17,17,17)",
              "width": 0.5
             },
             "pattern": {
              "fillmode": "overlay",
              "size": 10,
              "solidity": 0.2
             }
            },
            "type": "barpolar"
           }
          ],
          "pie": [
           {
            "automargin": true,
            "type": "pie"
           }
          ]
         },
         "layout": {
          "autotypenumbers": "strict",
          "colorway": [
           "#636efa",
           "#EF553B",
           "#00cc96",
           "#ab63fa",
           "#FFA15A",
           "#19d3f3",
           "#FF6692",
           "#B6E880",
           "#FF97FF",
           "#FECB52"
          ],
          "font": {
           "color": "#f2f5fa"
          },
          "hovermode": "closest",
          "hoverlabel": {
           "align": "left"
          },
          "paper_bgcolor": "rgb(17,17,17)",
          "plot_bgcolor": "rgb(17,17,17)",
          "polar": {
           "bgcolor": "rgb(17,17,17)",
           "angularaxis": {
            "gridcolor": "#506784",
            "linecolor": "#506784",
            "ticks": ""
           },
           "radialaxis": {
            "gridcolor": "#506784",
            "linecolor": "#506784",
            "ticks": ""
           }
          },
          "ternary": {
           "bgcolor": "rgb(17,17,17)",
           "aaxis": {
            "gridcolor": "#506784",
            "linecolor": "#506784",
            "ticks": ""
           },
           "baxis": {
            "gridcolor": "#506784",
            "linecolor": "#506784",
            "ticks": ""
           },
           "caxis": {
            "gridcolor": "#506784",
            "linecolor": "#506784",
            "ticks": ""
           }
          },
          "coloraxis": {
           "colorbar": {
            "outlinewidth": 0,
            "ticks": ""
           }
          },
          "colorscale": {
           "sequential": [
            [
             0.0,
             "#0d0887"
            ],
            [
             0.1111111111111111,
             "#46039f"
            ],
            [
             0.2222222222222222,
             "#7201a8"
            ],
            [
             0.3333333333333333,
             "#9c179e"
            ],
            [
             0.4444444444444444,
             "#bd3786"
            ],
            [
             0.5555555555555556,
             "#d8576b"
            ],
            [
             0.6666666666666666,
             "#ed7953"
            ],
            [
             0.7777777777777778,
             "#fb9f3a"
            ],
            [
             0.8888888888888888,
             "#fdca26"
            ],
            [
             1.0,
             "#f0f921"
            ]
           ],
           "sequentialminus": [
            [
             0.0,
             "#0d0887"
            ],
            [
             0.1111111111111111,
             "#46039f"
            ],
            [
             0.2222222222222222,
             "#7201a8"
            ],
            [
             0.3333333333333333,
             "#9c179e"
            ],
            [
             0.4444444444444444,
             "#bd3786"
            ],
            [
             0.5555555555555556,
             "#d8576b"
            ],
            [
             0.6666666666666666,
             "#ed7953"
            ],
            [
             0.7777777777777778,
             "#fb9f3a"
            ],
            [
             0.8888888888888888,
             "#fdca26"
            ],
            [
             1.0,
             "#f0f921"
            ]
           ],
           "diverging": [
            [
             0,
             "#8e0152"
            ],
            [
             0.1,
             "#c51b7d"
            ],
            [
             0.2,
             "#de77ae"
            ],
            [
             0.3,
             "#f1b6da"
            ],
            [
             0.4,
             "#fde0ef"
            ],
            [
             0.5,
             "#f7f7f7"
            ],
            [
             0.6,
             "#e6f5d0"
            ],
            [
             0.7,
             "#b8e186"
            ],
            [
             0.8,
             "#7fbc41"
            ],
            [
             0.9,
             "#4d9221"
            ],
            [
             1,
             "#276419"
            ]
           ]
          },
          "xaxis": {
           "gridcolor": "#283442",
           "linecolor": "#506784",
           "ticks": "",
           "title": {
            "standoff": 15
           },
           "zerolinecolor": "#283442",
           "automargin": true,
           "zerolinewidth": 2
          },
          "yaxis": {
           "gridcolor": "#283442",
           "linecolor": "#506784",
           "ticks": "",
           "title": {
            "standoff": 15
           },
           "zerolinecolor": "#283442",
           "automargin": true,
           "zerolinewidth": 2
          },
          "scene": {
           "xaxis": {
            "backgroundcolor": "rgb(17,17,17)",
            "gridcolor": "#506784",
            "linecolor": "#506784",
            "showbackground": true,
            "ticks": "",
            "zerolinecolor": "#C8D4E3",
            "gridwidth": 2
           },
           "yaxis": {
            "backgroundcolor": "rgb(17,17,17)",
            "gridcolor": "#506784",
            "linecolor": "#506784",
            "showbackground": true,
            "ticks": "",
            "zerolinecolor": "#C8D4E3",
            "gridwidth": 2
           },
           "zaxis": {
            "backgroundcolor": "rgb(17,17,17)",
            "gridcolor": "#506784",
            "linecolor": "#506784",
            "showbackground": true,
            "ticks": "",
            "zerolinecolor": "#C8D4E3",
            "gridwidth": 2
           }
          },
          "shapedefaults": {
           "line": {
            "color": "#f2f5fa"
           }
          },
          "annotationdefaults": {
           "arrowcolor": "#f2f5fa",
           "arrowhead": 0,
           "arrowwidth": 1
          },
          "geo": {
           "bgcolor": "rgb(17,17,17)",
           "landcolor": "rgb(17,17,17)",
           "subunitcolor": "#506784",
           "showland": true,
           "showlakes": true,
           "lakecolor": "rgb(17,17,17)"
          },
          "title": {
           "x": 0.05
          },
          "updatemenudefaults": {
           "bgcolor": "#506784",
           "borderwidth": 0
          },
          "sliderdefaults": {
           "bgcolor": "#C8D4E3",
           "borderwidth": 1,
           "bordercolor": "rgb(17,17,17)",
           "tickwidth": 0
          },
          "mapbox": {
           "style": "dark"
          }
         }
        },
        "mapbox": {
         "domain": {
          "x": [
           0.0,
           1.0
          ],
          "y": [
           0.0,
           1.0
          ]
         },
         "center": {
          "lat": 36.349625666666654,
          "lon": -75.75219366666667
         },
         "accesstoken": "pk.eyJ1Ijoic2FnYXJsaW1idTAiLCJhIjoiY2t2MXhhMm5mNnE5ajJ3dDl2eDZvNTM2NiJ9.1bwmb8HPgFZWwR8kcO5rOA",
         "zoom": 0.85,
         "style": "open-street-map"
        },
        "coloraxis": {
         "colorbar": {
          "title": {
           "text": "XCO2"
          }
         },
         "colorscale": [
          [
           0.0,
           "#000000"
          ],
          [
           0.0625,
           "#001f4d"
          ],
          [
           0.125,
           "#003786"
          ],
          [
           0.1875,
           "#0e58a8"
          ],
          [
           0.25,
           "#217eb8"
          ],
          [
           0.3125,
           "#30a4ca"
          ],
          [
           0.375,
           "#54c8df"
          ],
          [
           0.4375,
           "#9be4ef"
          ],
          [
           0.5,
           "#e1e9d1"
          ],
          [
           0.5625,
           "#f3d573"
          ],
          [
           0.625,
           "#e7b000"
          ],
          [
           0.6875,
           "#da8200"
          ],
          [
           0.75,
           "#c65400"
          ],
          [
           0.8125,
           "#ac2301"
          ],
          [
           0.875,
           "#820000"
          ],
          [
           0.9375,
           "#4c0000"
          ],
          [
           1.0,
           "#000000"
          ]
         ]
        },
        "legend": {
         "tracegroupgap": 0
        },
        "margin": {
         "t": 0,
         "b": 0,
         "l": 0,
         "r": 0
        },
        "height": 540,
        "width": 960,
        "autosize": false,
        "hovermode": "closest"
       },
       "config": {
        "plotlyServerURL": "https://plot.ly"
       }
      },
      "text/html": "<div>                            <div id=\"810b0eb0-a18b-494a-baa1-1915c708ef30\" class=\"plotly-graph-div\" style=\"height:540px; width:960px;\"></div>            <script type=\"text/javascript\">                require([\"plotly\"], function(Plotly) {                    window.PLOTLYENV=window.PLOTLYENV || {};                                    if (document.getElementById(\"810b0eb0-a18b-494a-baa1-1915c708ef30\")) {                    Plotly.newPlot(                        \"810b0eb0-a18b-494a-baa1-1915c708ef30\",                        [{\"hovertemplate\":\"<b>%{hovertext}</b><br><br>lat=%{lat}<br>lon=%{lon}<br>XCO2=%{marker.color}<extra></extra>\",\"hovertext\":[\"Mauna_loa\",\"Mauna_loa\",\"Mauna_loa\",\"Mauna_loa\",\"Mauna_loa\",\"Mauna_loa\",\"Mauna_loa\",\"Mauna_loa\",\"Mauna_loa\",\"Mauna_loa\",\"Mauna_loa\",\"Mauna_loa\",\"Mauna_loa\",\"Mauna_loa\",\"Mauna_loa\",\"Mauna_loa\",\"Mauna_loa\",\"Mauna_loa\",\"Mauna_loa\",\"Mauna_loa\",\"Mauna_loa\",\"Mauna_loa\",\"Mauna_loa\",\"Mauna_loa\",\"Mauna_loa\",\"Mauna_loa\",\"Mauna_loa\",\"Mauna_loa\",\"Mauna_loa\",\"Mauna_loa\",\"Mauna_loa\",\"New_York\",\"New_York\",\"New_York\",\"New_York\",\"New_York\",\"New_York\",\"New_York\",\"New_York\",\"New_York\",\"New_York\",\"New_York\",\"New_York\",\"New_York\",\"New_York\",\"New_York\",\"New_York\",\"New_York\",\"New_York\",\"New_York\",\"New_York\",\"New_York\",\"New_York\",\"New_York\",\"New_York\",\"New_York\",\"New_York\",\"New_York\",\"New_York\",\"New_York\",\"New_York\",\"New_York\",\"Paris\",\"Paris\",\"Paris\",\"Paris\",\"Paris\",\"Paris\",\"Paris\",\"Paris\",\"Paris\",\"Paris\",\"Paris\",\"Paris\",\"Paris\",\"Paris\",\"Paris\",\"Paris\",\"Paris\",\"Paris\",\"Paris\",\"Paris\",\"Paris\",\"Paris\",\"Paris\",\"Paris\",\"Paris\",\"Paris\",\"Paris\",\"Paris\",\"Paris\",\"Paris\",\"Paris\"],\"lat\":[19.479488,19.479488,19.479488,19.479488,19.479488,19.479488,19.479488,19.479488,19.479488,19.479488,19.479488,19.479488,19.479488,19.479488,19.479488,19.479488,19.479488,19.479488,19.479488,19.479488,19.479488,19.479488,19.479488,19.479488,19.479488,19.479488,19.479488,19.479488,19.479488,19.479488,19.479488,40.712776,40.712776,40.712776,40.712776,40.712776,40.712776,40.712776,40.712776,40.712776,40.712776,40.712776,40.712776,40.712776,40.712776,40.712776,40.712776,40.712776,40.712776,40.712776,40.712776,40.712776,40.712776,40.712776,40.712776,40.712776,40.712776,40.712776,40.712776,40.712776,40.712776,40.712776,48.856613,48.856613,48.856613,48.856613,48.856613,48.856613,48.856613,48.856613,48.856613,48.856613,48.856613,48.856613,48.856613,48.856613,48.856613,48.856613,48.856613,48.856613,48.856613,48.856613,48.856613,48.856613,48.856613,48.856613,48.856613,48.856613,48.856613,48.856613,48.856613,48.856613,48.856613],\"legendgroup\":\"\",\"lon\":[-155.602829,-155.602829,-155.602829,-155.602829,-155.602829,-155.602829,-155.602829,-155.602829,-155.602829,-155.602829,-155.602829,-155.602829,-155.602829,-155.602829,-155.602829,-155.602829,-155.602829,-155.602829,-155.602829,-155.602829,-155.602829,-155.602829,-155.602829,-155.602829,-155.602829,-155.602829,-155.602829,-155.602829,-155.602829,-155.602829,-155.602829,-74.005974,-74.005974,-74.005974,-74.005974,-74.005974,-74.005974,-74.005974,-74.005974,-74.005974,-74.005974,-74.005974,-74.005974,-74.005974,-74.005974,-74.005974,-74.005974,-74.005974,-74.005974,-74.005974,-74.005974,-74.005974,-74.005974,-74.005974,-74.005974,-74.005974,-74.005974,-74.005974,-74.005974,-74.005974,-74.005974,-74.005974,2.352222,2.352222,2.352222,2.352222,2.352222,2.352222,2.352222,2.352222,2.352222,2.352222,2.352222,2.352222,2.352222,2.352222,2.352222,2.352222,2.352222,2.352222,2.352222,2.352222,2.352222,2.352222,2.352222,2.352222,2.352222,2.352222,2.352222,2.352222,2.352222,2.352222,2.352222],\"marker\":{\"color\":[398.64933933131397,398.1360205216334,398.2417983934283,398.50180837675,398.5251787526068,398.5745861427858,398.7341624451801,398.7014388258103,398.6938427260611,398.491454689065,398.811975173885,398.75248330645263,398.7519085058011,398.96783709991723,399.12801003083587,399.07695463625714,398.9203796663787,398.5394214396365,398.36398354964336,398.5416406067088,398.7874079030007,398.64352584118024,398.5697003372479,398.7303534813691,399.0547629655339,399.1960402345285,399.11799467517994,399.0107106801588,398.9668402937241,398.94029396236874,399.1765552200377,400.52476106211543,400.8007927041035,400.5875962320715,399.78453423827887,401.6964230686426,400.55174395092763,401.09486508299597,400.1990455435589,400.6310446129646,400.8552568848244,400.3833055321593,400.8182222605683,401.07351378537714,400.21871609496884,400.71073090075515,401.4702899439726,400.39918894763105,400.3883987024892,401.51258144760504,401.16544914781116,401.0390039184131,402.8361217933707,400.98579847835936,402.06250196206383,401.15575029631145,401.18960896506906,401.64042002288625,401.51862413040357,400.4848415206652,402.0220549136866,400.5798982689157,399.9163818662055,399.78187487577094,399.5347069576382,399.9415748694446,399.7343264927622,399.78011409402825,400.40842577582225,400.1292509201448,399.8350402980578,399.0391815023031,400.09446456679143,399.6214472863358,399.7872081527021,400.3640897281002,400.50486131804064,400.238797737984,400.4948859801516,400.34662015386857,401.2987956230063,401.01359991240315,401.18535252986476,402.5440830446314,402.36828135675756,400.8682371932082,400.5264963780064,400.05995469982736,400.5243245046586,400.48911978374235,400.5426526418887,400.6162234873045,401.0619413747918],\"coloraxis\":\"coloraxis\"},\"mode\":\"markers\",\"name\":\"\",\"showlegend\":false,\"subplot\":\"mapbox\",\"type\":\"scattermapbox\"}],                        {\"template\":{\"data\":{\"histogram2dcontour\":[{\"type\":\"histogram2dcontour\",\"colorbar\":{\"outlinewidth\":0,\"ticks\":\"\"},\"colorscale\":[[0.0,\"#0d0887\"],[0.1111111111111111,\"#46039f\"],[0.2222222222222222,\"#7201a8\"],[0.3333333333333333,\"#9c179e\"],[0.4444444444444444,\"#bd3786\"],[0.5555555555555556,\"#d8576b\"],[0.6666666666666666,\"#ed7953\"],[0.7777777777777778,\"#fb9f3a\"],[0.8888888888888888,\"#fdca26\"],[1.0,\"#f0f921\"]]}],\"choropleth\":[{\"type\":\"choropleth\",\"colorbar\":{\"outlinewidth\":0,\"ticks\":\"\"}}],\"histogram2d\":[{\"type\":\"histogram2d\",\"colorbar\":{\"outlinewidth\":0,\"ticks\":\"\"},\"colorscale\":[[0.0,\"#0d0887\"],[0.1111111111111111,\"#46039f\"],[0.2222222222222222,\"#7201a8\"],[0.3333333333333333,\"#9c179e\"],[0.4444444444444444,\"#bd3786\"],[0.5555555555555556,\"#d8576b\"],[0.6666666666666666,\"#ed7953\"],[0.7777777777777778,\"#fb9f3a\"],[0.8888888888888888,\"#fdca26\"],[1.0,\"#f0f921\"]]}],\"heatmap\":[{\"type\":\"heatmap\",\"colorbar\":{\"outlinewidth\":0,\"ticks\":\"\"},\"colorscale\":[[0.0,\"#0d0887\"],[0.1111111111111111,\"#46039f\"],[0.2222222222222222,\"#7201a8\"],[0.3333333333333333,\"#9c179e\"],[0.4444444444444444,\"#bd3786\"],[0.5555555555555556,\"#d8576b\"],[0.6666666666666666,\"#ed7953\"],[0.7777777777777778,\"#fb9f3a\"],[0.8888888888888888,\"#fdca26\"],[1.0,\"#f0f921\"]]}],\"heatmapgl\":[{\"type\":\"heatmapgl\",\"colorbar\":{\"outlinewidth\":0,\"ticks\":\"\"},\"colorscale\":[[0.0,\"#0d0887\"],[0.1111111111111111,\"#46039f\"],[0.2222222222222222,\"#7201a8\"],[0.3333333333333333,\"#9c179e\"],[0.4444444444444444,\"#bd3786\"],[0.5555555555555556,\"#d8576b\"],[0.6666666666666666,\"#ed7953\"],[0.7777777777777778,\"#fb9f3a\"],[0.8888888888888888,\"#fdca26\"],[1.0,\"#f0f921\"]]}],\"contourcarpet\":[{\"type\":\"contourcarpet\",\"colorbar\":{\"outlinewidth\":0,\"ticks\":\"\"}}],\"contour\":[{\"type\":\"contour\",\"colorbar\":{\"outlinewidth\":0,\"ticks\":\"\"},\"colorscale\":[[0.0,\"#0d0887\"],[0.1111111111111111,\"#46039f\"],[0.2222222222222222,\"#7201a8\"],[0.3333333333333333,\"#9c179e\"],[0.4444444444444444,\"#bd3786\"],[0.5555555555555556,\"#d8576b\"],[0.6666666666666666,\"#ed7953\"],[0.7777777777777778,\"#fb9f3a\"],[0.8888888888888888,\"#fdca26\"],[1.0,\"#f0f921\"]]}],\"surface\":[{\"type\":\"surface\",\"colorbar\":{\"outlinewidth\":0,\"ticks\":\"\"},\"colorscale\":[[0.0,\"#0d0887\"],[0.1111111111111111,\"#46039f\"],[0.2222222222222222,\"#7201a8\"],[0.3333333333333333,\"#9c179e\"],[0.4444444444444444,\"#bd3786\"],[0.5555555555555556,\"#d8576b\"],[0.6666666666666666,\"#ed7953\"],[0.7777777777777778,\"#fb9f3a\"],[0.8888888888888888,\"#fdca26\"],[1.0,\"#f0f921\"]]}],\"mesh3d\":[{\"type\":\"mesh3d\",\"colorbar\":{\"outlinewidth\":0,\"ticks\":\"\"}}],\"scatter\":[{\"marker\":{\"line\":{\"color\":\"#283442\"}},\"type\":\"scatter\"}],\"parcoords\":[{\"type\":\"parcoords\",\"line\":{\"colorbar\":{\"outlinewidth\":0,\"ticks\":\"\"}}}],\"scatterpolargl\":[{\"type\":\"scatterpolargl\",\"marker\":{\"colorbar\":{\"outlinewidth\":0,\"ticks\":\"\"}}}],\"bar\":[{\"error_x\":{\"color\":\"#f2f5fa\"},\"error_y\":{\"color\":\"#f2f5fa\"},\"marker\":{\"line\":{\"color\":\"rgb(17,17,17)\",\"width\":0.5},\"pattern\":{\"fillmode\":\"overlay\",\"size\":10,\"solidity\":0.2}},\"type\":\"bar\"}],\"scattergeo\":[{\"type\":\"scattergeo\",\"marker\":{\"colorbar\":{\"outlinewidth\":0,\"ticks\":\"\"}}}],\"scatterpolar\":[{\"type\":\"scatterpolar\",\"marker\":{\"colorbar\":{\"outlinewidth\":0,\"ticks\":\"\"}}}],\"histogram\":[{\"marker\":{\"pattern\":{\"fillmode\":\"overlay\",\"size\":10,\"solidity\":0.2}},\"type\":\"histogram\"}],\"scattergl\":[{\"marker\":{\"line\":{\"color\":\"#283442\"}},\"type\":\"scattergl\"}],\"scatter3d\":[{\"type\":\"scatter3d\",\"line\":{\"colorbar\":{\"outlinewidth\":0,\"ticks\":\"\"}},\"marker\":{\"colorbar\":{\"outlinewidth\":0,\"ticks\":\"\"}}}],\"scattermapbox\":[{\"type\":\"scattermapbox\",\"marker\":{\"colorbar\":{\"outlinewidth\":0,\"ticks\":\"\"}}}],\"scatterternary\":[{\"type\":\"scatterternary\",\"marker\":{\"colorbar\":{\"outlinewidth\":0,\"ticks\":\"\"}}}],\"scattercarpet\":[{\"type\":\"scattercarpet\",\"marker\":{\"colorbar\":{\"outlinewidth\":0,\"ticks\":\"\"}}}],\"carpet\":[{\"aaxis\":{\"endlinecolor\":\"#A2B1C6\",\"gridcolor\":\"#506784\",\"linecolor\":\"#506784\",\"minorgridcolor\":\"#506784\",\"startlinecolor\":\"#A2B1C6\"},\"baxis\":{\"endlinecolor\":\"#A2B1C6\",\"gridcolor\":\"#506784\",\"linecolor\":\"#506784\",\"minorgridcolor\":\"#506784\",\"startlinecolor\":\"#A2B1C6\"},\"type\":\"carpet\"}],\"table\":[{\"cells\":{\"fill\":{\"color\":\"#506784\"},\"line\":{\"color\":\"rgb(17,17,17)\"}},\"header\":{\"fill\":{\"color\":\"#2a3f5f\"},\"line\":{\"color\":\"rgb(17,17,17)\"}},\"type\":\"table\"}],\"barpolar\":[{\"marker\":{\"line\":{\"color\":\"rgb(17,17,17)\",\"width\":0.5},\"pattern\":{\"fillmode\":\"overlay\",\"size\":10,\"solidity\":0.2}},\"type\":\"barpolar\"}],\"pie\":[{\"automargin\":true,\"type\":\"pie\"}]},\"layout\":{\"autotypenumbers\":\"strict\",\"colorway\":[\"#636efa\",\"#EF553B\",\"#00cc96\",\"#ab63fa\",\"#FFA15A\",\"#19d3f3\",\"#FF6692\",\"#B6E880\",\"#FF97FF\",\"#FECB52\"],\"font\":{\"color\":\"#f2f5fa\"},\"hovermode\":\"closest\",\"hoverlabel\":{\"align\":\"left\"},\"paper_bgcolor\":\"rgb(17,17,17)\",\"plot_bgcolor\":\"rgb(17,17,17)\",\"polar\":{\"bgcolor\":\"rgb(17,17,17)\",\"angularaxis\":{\"gridcolor\":\"#506784\",\"linecolor\":\"#506784\",\"ticks\":\"\"},\"radialaxis\":{\"gridcolor\":\"#506784\",\"linecolor\":\"#506784\",\"ticks\":\"\"}},\"ternary\":{\"bgcolor\":\"rgb(17,17,17)\",\"aaxis\":{\"gridcolor\":\"#506784\",\"linecolor\":\"#506784\",\"ticks\":\"\"},\"baxis\":{\"gridcolor\":\"#506784\",\"linecolor\":\"#506784\",\"ticks\":\"\"},\"caxis\":{\"gridcolor\":\"#506784\",\"linecolor\":\"#506784\",\"ticks\":\"\"}},\"coloraxis\":{\"colorbar\":{\"outlinewidth\":0,\"ticks\":\"\"}},\"colorscale\":{\"sequential\":[[0.0,\"#0d0887\"],[0.1111111111111111,\"#46039f\"],[0.2222222222222222,\"#7201a8\"],[0.3333333333333333,\"#9c179e\"],[0.4444444444444444,\"#bd3786\"],[0.5555555555555556,\"#d8576b\"],[0.6666666666666666,\"#ed7953\"],[0.7777777777777778,\"#fb9f3a\"],[0.8888888888888888,\"#fdca26\"],[1.0,\"#f0f921\"]],\"sequentialminus\":[[0.0,\"#0d0887\"],[0.1111111111111111,\"#46039f\"],[0.2222222222222222,\"#7201a8\"],[0.3333333333333333,\"#9c179e\"],[0.4444444444444444,\"#bd3786\"],[0.5555555555555556,\"#d8576b\"],[0.6666666666666666,\"#ed7953\"],[0.7777777777777778,\"#fb9f3a\"],[0.8888888888888888,\"#fdca26\"],[1.0,\"#f0f921\"]],\"diverging\":[[0,\"#8e0152\"],[0.1,\"#c51b7d\"],[0.2,\"#de77ae\"],[0.3,\"#f1b6da\"],[0.4,\"#fde0ef\"],[0.5,\"#f7f7f7\"],[0.6,\"#e6f5d0\"],[0.7,\"#b8e186\"],[0.8,\"#7fbc41\"],[0.9,\"#4d9221\"],[1,\"#276419\"]]},\"xaxis\":{\"gridcolor\":\"#283442\",\"linecolor\":\"#506784\",\"ticks\":\"\",\"title\":{\"standoff\":15},\"zerolinecolor\":\"#283442\",\"automargin\":true,\"zerolinewidth\":2},\"yaxis\":{\"gridcolor\":\"#283442\",\"linecolor\":\"#506784\",\"ticks\":\"\",\"title\":{\"standoff\":15},\"zerolinecolor\":\"#283442\",\"automargin\":true,\"zerolinewidth\":2},\"scene\":{\"xaxis\":{\"backgroundcolor\":\"rgb(17,17,17)\",\"gridcolor\":\"#506784\",\"linecolor\":\"#506784\",\"showbackground\":true,\"ticks\":\"\",\"zerolinecolor\":\"#C8D4E3\",\"gridwidth\":2},\"yaxis\":{\"backgroundcolor\":\"rgb(17,17,17)\",\"gridcolor\":\"#506784\",\"linecolor\":\"#506784\",\"showbackground\":true,\"ticks\":\"\",\"zerolinecolor\":\"#C8D4E3\",\"gridwidth\":2},\"zaxis\":{\"backgroundcolor\":\"rgb(17,17,17)\",\"gridcolor\":\"#506784\",\"linecolor\":\"#506784\",\"showbackground\":true,\"ticks\":\"\",\"zerolinecolor\":\"#C8D4E3\",\"gridwidth\":2}},\"shapedefaults\":{\"line\":{\"color\":\"#f2f5fa\"}},\"annotationdefaults\":{\"arrowcolor\":\"#f2f5fa\",\"arrowhead\":0,\"arrowwidth\":1},\"geo\":{\"bgcolor\":\"rgb(17,17,17)\",\"landcolor\":\"rgb(17,17,17)\",\"subunitcolor\":\"#506784\",\"showland\":true,\"showlakes\":true,\"lakecolor\":\"rgb(17,17,17)\"},\"title\":{\"x\":0.05},\"updatemenudefaults\":{\"bgcolor\":\"#506784\",\"borderwidth\":0},\"sliderdefaults\":{\"bgcolor\":\"#C8D4E3\",\"borderwidth\":1,\"bordercolor\":\"rgb(17,17,17)\",\"tickwidth\":0},\"mapbox\":{\"style\":\"dark\"}}},\"mapbox\":{\"domain\":{\"x\":[0.0,1.0],\"y\":[0.0,1.0]},\"center\":{\"lat\":36.349625666666654,\"lon\":-75.75219366666667},\"accesstoken\":\"pk.eyJ1Ijoic2FnYXJsaW1idTAiLCJhIjoiY2t2MXhhMm5mNnE5ajJ3dDl2eDZvNTM2NiJ9.1bwmb8HPgFZWwR8kcO5rOA\",\"zoom\":0.85,\"style\":\"open-street-map\"},\"coloraxis\":{\"colorbar\":{\"title\":{\"text\":\"XCO2\"}},\"colorscale\":[[0.0,\"#000000\"],[0.0625,\"#001f4d\"],[0.125,\"#003786\"],[0.1875,\"#0e58a8\"],[0.25,\"#217eb8\"],[0.3125,\"#30a4ca\"],[0.375,\"#54c8df\"],[0.4375,\"#9be4ef\"],[0.5,\"#e1e9d1\"],[0.5625,\"#f3d573\"],[0.625,\"#e7b000\"],[0.6875,\"#da8200\"],[0.75,\"#c65400\"],[0.8125,\"#ac2301\"],[0.875,\"#820000\"],[0.9375,\"#4c0000\"],[1.0,\"#000000\"]]},\"legend\":{\"tracegroupgap\":0},\"margin\":{\"t\":0,\"b\":0,\"l\":0,\"r\":0},\"height\":540,\"width\":960,\"autosize\":false,\"hovermode\":\"closest\"},                        {\"responsive\": true}                    ).then(function(){\n                            \nvar gd = document.getElementById('810b0eb0-a18b-494a-baa1-1915c708ef30');\nvar x = new MutationObserver(function (mutations, observer) {{\n        var display = window.getComputedStyle(gd).display;\n        if (!display || display === 'none') {{\n            console.log([gd, 'removed!']);\n            Plotly.purge(gd);\n            observer.disconnect();\n        }}\n}});\n\n// Listen for the removal of the full notebook cells\nvar notebookContainer = gd.closest('#notebook-container');\nif (notebookContainer) {{\n    x.observe(notebookContainer, {childList: true});\n}}\n\n// Listen for the clearing of the current output cell\nvar outputEl = gd.closest('.output');\nif (outputEl) {{\n    x.observe(outputEl, {childList: true});\n}}\n\n                        })                };                });            </script>        </div>"
     },
     "metadata": {},
     "output_type": "display_data"
    }
   ],
   "source": [
    "## set mapbox access token\n",
    "import plotly.express as px\n",
    "import plotly.graph_objs as go\n",
    "\n",
    "px.set_mapbox_access_token('pk.eyJ1Ijoic2FnYXJsaW1idTAiLCJhIjoiY2t2MXhhMm5mNnE5ajJ3dDl2eDZvNTM2NiJ9.1bwmb8HPgFZWwR8kcO5rOA')\n",
    "\n",
    "# Plotly configs\n",
    "\n",
    "fig= px.scatter_mapbox(df,\n",
    "                              lat= 'lat',\n",
    "                              lon= 'lon',\n",
    "                              color= 'XCO2',\n",
    "                              zoom= .85,\n",
    "                              width=960,\n",
    "                              height=540,\n",
    "                              size_max=10,\n",
    "                              hover_name='location',\n",
    "                              color_continuous_scale=px.colors.cyclical.IceFire)\n",
    "\n",
    "fig.update_layout(mapbox_style=\"open-street-map\") #dark\n",
    "\n",
    "\n",
    "layout = go.Layout(margin=go.layout.Margin(\n",
    "    l=0,\n",
    "    r=0,\n",
    "    b=0,\n",
    "    t=0))\n",
    "\n",
    "\n",
    "fig.update_layout(layout,\n",
    "                  autosize=False,\n",
    "                  height=540,\n",
    "                  width=960,\n",
    "                  hovermode=\"closest\")\n",
    "\n",
    "# Saving the output image\n",
    "\n",
    "#fig.write_html('xcodex_map.html')\n",
    "#fig.write_image(\"xcodex_map.png\", scale=2)\n",
    "\n",
    "fig.show()"
   ],
   "metadata": {
    "collapsed": false,
    "ExecuteTime": {
     "end_time": "2023-05-29T19:31:00.885062900Z",
     "start_time": "2023-05-29T19:31:00.731909800Z"
    }
   }
  },
  {
   "cell_type": "code",
   "execution_count": 10,
   "outputs": [
    {
     "data": {
      "text/plain": "<Figure size 1000x500 with 1 Axes>",
      "image/png": "[encoded data removed]"
     },
     "metadata": {},
     "output_type": "display_data"
    }
   ],
   "source": [
    "# Showing XCO2 behavior in time serie\n",
    "\n",
    "import matplotlib.pyplot as plt\n",
    "import seaborn as sns\n",
    "\n",
    "plt.figure(figsize=(10,5))\n",
    "\n",
    "sns.set_theme(font_scale=1, style=\"white\")\n",
    "\n",
    "sns.lineplot(data=df,\n",
    "             x=\"jd\",\n",
    "             y='XCO2',\n",
    "             hue='location',\n",
    "             errorbar=('ci',0),\n",
    "             palette=\"tab10\")\n",
    "\n",
    "plt.xlabel(\"days\")\n",
    "plt.ylabel(\"XCO2 (ppm)\")\n",
    "\n",
    "plt.xlim(min(df.jd), max(df.jd))\n",
    "plt.ylim(min(df.XCO2-1), max(df.XCO2+1))\n",
    "\n",
    "sns.despine(right=False,\n",
    "            top=False)\n",
    "\n",
    "plt.legend(ncol=3)\n",
    "\n",
    "plt.tight_layout()\n",
    "\n",
    "#plt.savefig(\"xcodex_locations.png\", dpi=300)\n",
    "\n",
    "plt.show()"
   ],
   "metadata": {
    "collapsed": false,
    "ExecuteTime": {
     "end_time": "2023-05-29T19:31:54.712716Z",
     "start_time": "2023-05-29T19:31:54.258441Z"
    }
   }
  },
  {
   "cell_type": "code",
   "execution_count": null,
   "outputs": [],
   "source": [],
   "metadata": {
    "collapsed": false
   }
  }
 ],
 "metadata": {
  "kernelspec": {
   "display_name": "Python 3",
   "language": "python",
   "name": "python3"
  },
  "language_info": {
   "codemirror_mode": {
    "name": "ipython",
    "version": 2
   },
   "file_extension": ".py",
   "mimetype": "text/x-python",
   "name": "python",
   "nbconvert_exporter": "python",
   "pygments_lexer": "ipython2",
   "version": "2.7.6"
  }
 },
 "nbformat": 4,
 "nbformat_minor": 0
}
